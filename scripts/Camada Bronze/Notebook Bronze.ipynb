{
 "cells": [
  {
   "cell_type": "code",
   "execution_count": 0,
   "metadata": {
    "application/vnd.databricks.v1+cell": {
     "cellMetadata": {
      "byteLimit": 2048000,
      "rowLimit": 10000
     },
     "inputWidgets": {},
     "nuid": "90b1a9de-5887-41fa-91a3-3bbc8363725a",
     "showTitle": false,
     "tableResultSettingsMap": {},
     "title": ""
    }
   },
   "outputs": [
    {
     "output_type": "execute_result",
     "data": {
      "text/html": [
       "\n",
       "            <div>\n",
       "                <p><b>SparkSession - hive</b></p>\n",
       "                \n",
       "        <div>\n",
       "            <p><b>SparkContext</b></p>\n",
       "\n",
       "            <p><a href=\"/?o=1378930639239625#setting/sparkui/0619-181814-ngvukwoi/driver-9075173108518649330\">Spark UI</a></p>\n",
       "\n",
       "            <dl>\n",
       "              <dt>Version</dt>\n",
       "                <dd><code>v3.5.0</code></dd>\n",
       "              <dt>Master</dt>\n",
       "                <dd><code>local[*, 4]</code></dd>\n",
       "              <dt>AppName</dt>\n",
       "                <dd><code>Databricks Shell</code></dd>\n",
       "            </dl>\n",
       "        </div>\n",
       "        \n",
       "            </div>\n",
       "        "
      ],
      "text/plain": [
       "<pyspark.sql.session.SparkSession at 0x7bbb3b505c90>"
      ]
     },
     "execution_count": 24,
     "metadata": {},
     "output_type": "execute_result"
    }
   ],
   "source": [
    "# Validando a SparkSession\n",
    "spark"
   ]
  },
  {
   "cell_type": "code",
   "execution_count": 0,
   "metadata": {
    "application/vnd.databricks.v1+cell": {
     "cellMetadata": {
      "byteLimit": 2048000,
      "rowLimit": 10000
     },
     "inputWidgets": {},
     "nuid": "6f25d5f2-c5ce-4e62-8bc1-d7a3bb616664",
     "showTitle": false,
     "tableResultSettingsMap": {},
     "title": ""
    }
   },
   "outputs": [
    {
     "output_type": "display_data",
     "data": {
      "text/html": [
       "<style scoped>\n",
       "  .table-result-container {\n",
       "    max-height: 300px;\n",
       "    overflow: auto;\n",
       "  }\n",
       "  table, th, td {\n",
       "    border: 1px solid black;\n",
       "    border-collapse: collapse;\n",
       "  }\n",
       "  th, td {\n",
       "    padding: 5px;\n",
       "  }\n",
       "  th {\n",
       "    text-align: left;\n",
       "  }\n",
       "</style><div class='table-result-container'><table class='table-result'><thead style='background-color: white'><tr><th>mountPoint</th><th>source</th><th>encryptionType</th></tr></thead><tbody><tr><td>/databricks-datasets</td><td>databricks-datasets</td><td></td></tr><tr><td>/Volumes</td><td>UnityCatalogVolumes</td><td></td></tr><tr><td>/databricks/mlflow-tracking</td><td>databricks/mlflow-tracking</td><td></td></tr><tr><td>/databricks-results</td><td>databricks-results</td><td></td></tr><tr><td>/databricks/mlflow-registry</td><td>databricks/mlflow-registry</td><td></td></tr><tr><td>/mnt/datalakeea44c854c651c494/landing-zone</td><td>wasbs://landing-zone@datalakeea44c854c651c494.blob.core.windows.net</td><td></td></tr><tr><td>/Volume</td><td>DbfsReserved</td><td></td></tr><tr><td>/volumes</td><td>DbfsReserved</td><td></td></tr><tr><td>/</td><td>DatabricksRoot</td><td></td></tr><tr><td>/volume</td><td>DbfsReserved</td><td></td></tr></tbody></table></div>"
      ]
     },
     "metadata": {
      "application/vnd.databricks.v1+output": {
       "addedWidgets": {},
       "aggData": [],
       "aggError": "",
       "aggOverflow": false,
       "aggSchema": [],
       "aggSeriesLimitReached": false,
       "aggType": "",
       "arguments": {},
       "columnCustomDisplayInfos": {},
       "data": [
        [
         "/databricks-datasets",
         "databricks-datasets",
         ""
        ],
        [
         "/Volumes",
         "UnityCatalogVolumes",
         ""
        ],
        [
         "/databricks/mlflow-tracking",
         "databricks/mlflow-tracking",
         ""
        ],
        [
         "/databricks-results",
         "databricks-results",
         ""
        ],
        [
         "/databricks/mlflow-registry",
         "databricks/mlflow-registry",
         ""
        ],
        [
         "/mnt/datalakeea44c854c651c494/landing-zone",
         "wasbs://landing-zone@datalakeea44c854c651c494.blob.core.windows.net",
         ""
        ],
        [
         "/Volume",
         "DbfsReserved",
         ""
        ],
        [
         "/volumes",
         "DbfsReserved",
         ""
        ],
        [
         "/",
         "DatabricksRoot",
         ""
        ],
        [
         "/volume",
         "DbfsReserved",
         ""
        ]
       ],
       "datasetInfos": [],
       "dbfsResultPath": null,
       "isJsonSchema": true,
       "metadata": {},
       "overflow": false,
       "plotOptions": {
        "customPlotOptions": {},
        "displayType": "table",
        "pivotAggregation": null,
        "pivotColumns": null,
        "xColumns": null,
        "yColumns": null
       },
       "removedWidgets": [],
       "schema": [
        {
         "metadata": "{}",
         "name": "mountPoint",
         "type": "\"string\""
        },
        {
         "metadata": "{}",
         "name": "source",
         "type": "\"string\""
        },
        {
         "metadata": "{}",
         "name": "encryptionType",
         "type": "\"string\""
        }
       ],
       "type": "table"
      }
     },
     "output_type": "display_data"
    }
   ],
   "source": [
    "# Mostrando os pontos de montagem no cluster Databricks\n",
    "display(dbutils.fs.mounts())"
   ]
  },
  {
   "cell_type": "code",
   "execution_count": 0,
   "metadata": {
    "application/vnd.databricks.v1+cell": {
     "cellMetadata": {
      "byteLimit": 2048000,
      "rowLimit": 10000
     },
     "inputWidgets": {},
     "nuid": "de838ef4-900a-4516-bed6-68aba7e3cc12",
     "showTitle": false,
     "tableResultSettingsMap": {},
     "title": ""
    }
   },
   "outputs": [
    {
     "output_type": "display_data",
     "data": {
      "text/html": [
       "<style scoped>\n",
       "  .ansiout {\n",
       "    display: block;\n",
       "    unicode-bidi: embed;\n",
       "    white-space: pre-wrap;\n",
       "    word-wrap: break-word;\n",
       "    word-break: break-all;\n",
       "    font-family: \"Menlo\", \"Monaco\", \"Consolas\", \"Ubuntu Mono\", \"Source Code Pro\", monospace;\n",
       "    font-size: 13px;\n",
       "    color: #555;\n",
       "    margin-left: 4px;\n",
       "    line-height: 19px;\n",
       "  }\n",
       "</style>"
      ]
     },
     "metadata": {
      "application/vnd.databricks.v1+output": {
       "arguments": {},
       "data": "",
       "errorSummary": "Single-user check failed: user 'iuri.21716@alunosatc.edu.br' attempted to run a command on single-user cluster 0619-181814-ngvukwoi, but the single user of this cluster is 'william.258222@alunosatc.edu.br'",
       "errorTraceType": null,
       "metadata": {},
       "type": "ipynbError"
      }
     },
     "output_type": "display_data"
    }
   ],
   "source": [
    "# Desmontando os pontos de montagem caso necessário\n",
    " \n",
    "dbutils.fs.unmount('/mnt/datalakeea44c854c651c494/lading-zone')\n",
    "#dbutils.fs.unmount('/mnt/datalakeea44c854c651c494/bronze')\n",
    "#dbutils.fs.unmount('/mnt/datalakeea44c854c651c494/silver')\n",
    "#dbutils.fs.unmount('/mnt/datalakeea44c854c651c494/gold')"
   ]
  },
  {
   "cell_type": "code",
   "execution_count": 0,
   "metadata": {
    "application/vnd.databricks.v1+cell": {
     "cellMetadata": {
      "byteLimit": 2048000,
      "rowLimit": 10000
     },
     "inputWidgets": {},
     "nuid": "f4b9fc37-40db-45fa-83dd-4fa361fa2c41",
     "showTitle": false,
     "tableResultSettingsMap": {},
     "title": ""
    }
   },
   "outputs": [],
   "source": [
    "# Definindo uma função para montar um ADLS com um ponto de montagem com ADLS SAS\n",
    "\n",
    "storageAccountName = \"datalakeea44c854c651c494\"\n",
    "storageAccountAccessKey = \"\"\n",
    "sasToken = \"sv=2024-11-04&ss=bfqt&srt=sco&sp=rwdlacupyx&se=2025-06-20T02:32:31Z&st=2025-06-19T18:32:31Z&spr=https&sig=CGev8c8IkJuIFAGEeFukBHu%2B66q2MxFaeswMz0QNSVo%3D\"\n",
    "\n",
    "def mount_adls(blobContainerName):\n",
    "    try:\n",
    "      dbutils.fs.mount(\n",
    "        source = \"wasbs://{}@{}.blob.core.windows.net\".format(blobContainerName, storageAccountName),\n",
    "        mount_point = f\"/mnt/{storageAccountName}/{blobContainerName}\",\n",
    "        #extra_configs = {'fs.azure.account.key.' + storageAccountName + '.blob.core.windows.net': storageAccountAccessKey}\n",
    "        extra_configs = {'fs.azure.sas.' + blobContainerName + '.' + storageAccountName + '.blob.core.windows.net': sasToken}\n",
    "      )\n",
    "      print(f\"Montagem bem-sucedida: {blobContainerName}\")\n",
    "    except Exception as e:\n",
    "      print(f\"Falha na montagem de {blobContainerName}:\", e)"
   ]
  },
  {
   "cell_type": "code",
   "execution_count": 0,
   "metadata": {
    "application/vnd.databricks.v1+cell": {
     "cellMetadata": {
      "byteLimit": 2048000,
      "rowLimit": 10000
     },
     "inputWidgets": {},
     "nuid": "75401822-7f94-4c1f-8c13-da1410709724",
     "showTitle": false,
     "tableResultSettingsMap": {},
     "title": ""
    }
   },
   "outputs": [
    {
     "output_type": "stream",
     "name": "stdout",
     "output_type": "stream",
     "text": [
      "Falha na montagem de landing-zone: An error occurred while calling o433.mount.\n: java.rmi.RemoteException: java.lang.IllegalArgumentException: requirement failed: Directory already mounted: /mnt/datalakeea44c854c651c494/landing-zone; nested exception is: \n\tjava.lang.IllegalArgumentException: requirement failed: Directory already mounted: /mnt/datalakeea44c854c651c494/landing-zone\n\tat com.databricks.backend.daemon.data.client.DbfsClient.send0(DbfsClient.scala:152)\n\tat com.databricks.backend.daemon.data.client.DbfsClient.sendIdempotent(DbfsClient.scala:74)\n\tat com.databricks.backend.daemon.dbutils.DBUtilsCore.createOrUpdateMount(DBUtilsCore.scala:1205)\n\tat com.databricks.backend.daemon.dbutils.DBUtilsCore.$anonfun$mount$1(DBUtilsCore.scala:1231)\n\tat com.databricks.logging.UsageLogging.$anonfun$recordOperation$1(UsageLogging.scala:528)\n\tat com.databricks.logging.UsageLogging.executeThunkAndCaptureResultTags$1(UsageLogging.scala:633)\n\tat com.databricks.logging.UsageLogging.$anonfun$recordOperationWithResultTags$4(UsageLogging.scala:656)\n\tat com.databricks.logging.AttributionContextTracing.$anonfun$withAttributionContext$1(AttributionContextTracing.scala:48)\n\tat com.databricks.logging.AttributionContext$.$anonfun$withValue$1(AttributionContext.scala:276)\n\tat scala.util.DynamicVariable.withValue(DynamicVariable.scala:62)\n\tat com.databricks.logging.AttributionContext$.withValue(AttributionContext.scala:272)\n\tat com.databricks.logging.AttributionContextTracing.withAttributionContext(AttributionContextTracing.scala:46)\n\tat com.databricks.logging.AttributionContextTracing.withAttributionContext$(AttributionContextTracing.scala:43)\n\tat com.databricks.backend.daemon.dbutils.FSUtils.withAttributionContext(DBUtilsCore.scala:76)\n\tat com.databricks.logging.AttributionContextTracing.withAttributionTags(AttributionContextTracing.scala:95)\n\tat com.databricks.logging.AttributionContextTracing.withAttributionTags$(AttributionContextTracing.scala:76)\n\tat com.databricks.backend.daemon.dbutils.FSUtils.withAttributionTags(DBUtilsCore.scala:76)\n\tat com.databricks.logging.UsageLogging.recordOperationWithResultTags(UsageLogging.scala:628)\n\tat com.databricks.logging.UsageLogging.recordOperationWithResultTags$(UsageLogging.scala:537)\n\tat com.databricks.backend.daemon.dbutils.FSUtils.recordOperationWithResultTags(DBUtilsCore.scala:76)\n\tat com.databricks.logging.UsageLogging.recordOperation(UsageLogging.scala:529)\n\tat com.databricks.logging.UsageLogging.recordOperation$(UsageLogging.scala:495)\n\tat com.databricks.backend.daemon.dbutils.FSUtils.recordOperation(DBUtilsCore.scala:76)\n\tat com.databricks.backend.daemon.dbutils.FSUtils.recordDbutilsFsOp(DBUtilsCore.scala:140)\n\tat com.databricks.backend.daemon.dbutils.DBUtilsCore.mount(DBUtilsCore.scala:1225)\n\tat sun.reflect.GeneratedMethodAccessor839.invoke(Unknown Source)\n\tat sun.reflect.DelegatingMethodAccessorImpl.invoke(DelegatingMethodAccessorImpl.java:43)\n\tat java.lang.reflect.Method.invoke(Method.java:498)\n\tat py4j.reflection.MethodInvoker.invoke(MethodInvoker.java:244)\n\tat py4j.reflection.ReflectionEngine.invoke(ReflectionEngine.java:397)\n\tat py4j.Gateway.invoke(Gateway.java:306)\n\tat py4j.commands.AbstractCommand.invokeMethod(AbstractCommand.java:132)\n\tat py4j.commands.CallCommand.execute(CallCommand.java:79)\n\tat py4j.ClientServerConnection.waitForCommands(ClientServerConnection.java:199)\n\tat py4j.ClientServerConnection.run(ClientServerConnection.java:119)\n\tat java.lang.Thread.run(Thread.java:750)\nCaused by: java.lang.IllegalArgumentException: requirement failed: Directory already mounted: /mnt/datalakeea44c854c651c494/landing-zone\n\tat scala.Predef$.require(Predef.scala:281)\n\tat com.databricks.backend.daemon.data.server.DefaultMetadataManager.$anonfun$insertMount$1(MetadataManager.scala:860)\n\tat com.databricks.backend.daemon.data.server.DefaultMetadataManager.$anonfun$modifyAndVerify$2(MetadataManager.scala:1242)\n\tat scala.runtime.java8.JFunction0$mcV$sp.apply(JFunction0$mcV$sp.java:23)\n\tat com.databricks.backend.daemon.data.server.DefaultMetadataManager.withRetries(MetadataManager.scala:1015)\n\tat com.databricks.backend.daemon.data.server.DefaultMetadataManager.modifyAndVerify(MetadataManager.scala:1231)\n\tat com.databricks.backend.daemon.data.server.DefaultMetadataManager.insertMount(MetadataManager.scala:868)\n\tat com.databricks.backend.daemon.data.server.handler.MountHandler.receive(MountHandler.scala:131)\n\tat com.databricks.backend.daemon.data.server.handler.DbfsRequestHandler.receive(DbfsRequestHandler.scala:16)\n\tat com.databricks.backend.daemon.data.server.handler.DbfsRequestHandler.receive$(DbfsRequestHandler.scala:15)\n\tat com.databricks.backend.daemon.data.server.handler.MountHandler.receive(MountHandler.scala:39)\n\tat com.databricks.backend.daemon.data.server.session.SessionContext.$anonfun$queryHandlers$1(SessionContext.scala:54)\n\tat com.databricks.backend.daemon.data.server.session.SessionContext.$anonfun$queryHandlers$1$adapted(SessionContext.scala:53)\n\tat scala.collection.immutable.List.foreach(List.scala:431)\n\tat com.databricks.backend.daemon.data.server.session.SessionContext.queryHandlers(SessionContext.scala:53)\n\tat com.databricks.backend.daemon.data.server.DbfsServerBackend.$anonfun$handleOtherRpc$2(DbfsServerBackend.scala:599)\n\tat com.databricks.logging.AttributionContextTracing.$anonfun$withAttributionContext$1(AttributionContextTracing.scala:49)\n\tat com.databricks.logging.AttributionContext$.$anonfun$withValue$1(AttributionContext.scala:290)\n\tat scala.util.DynamicVariable.withValue(DynamicVariable.scala:62)\n\tat com.databricks.logging.AttributionContext$.withValue(AttributionContext.scala:286)\n\tat com.databricks.logging.AttributionContextTracing.withAttributionContext(AttributionContextTracing.scala:47)\n\tat com.databricks.logging.AttributionContextTracing.withAttributionContext$(AttributionContextTracing.scala:44)\n\tat com.databricks.rpc.ServerBackend.withAttributionContext(ServerBackend.scala:22)\n\tat com.databricks.logging.AttributionContextTracing.withAttributionTags(AttributionContextTracing.scala:96)\n\tat com.databricks.logging.AttributionContextTracing.withAttributionTags$(AttributionContextTracing.scala:77)\n\tat com.databricks.rpc.ServerBackend.withAttributionTags(ServerBackend.scala:22)\n\tat com.databricks.backend.daemon.data.server.DbfsServerBackend.com$databricks$backend$daemon$data$server$DbfsServerBackend$$handleOtherRpc(DbfsServerBackend.scala:599)\n\tat com.databricks.backend.daemon.data.server.DbfsServerBackend$$anonfun$receive$1.applyOrElse(DbfsServerBackend.scala:524)\n\tat com.databricks.backend.daemon.data.server.DbfsServerBackend$$anonfun$receive$1.applyOrElse(DbfsServerBackend.scala:431)\n\tat com.databricks.rpc.ServerBackend.$anonfun$internalReceive0$2(ServerBackend.scala:174)\n\tat com.databricks.rpc.ServerBackend$$anonfun$commonReceive$1.applyOrElse(ServerBackend.scala:200)\n\tat com.databricks.rpc.ServerBackend$$anonfun$commonReceive$1.applyOrElse(ServerBackend.scala:200)\n\tat com.databricks.rpc.ServerBackend.internalReceive0(ServerBackend.scala:171)\n\tat com.databricks.rpc.ServerBackend.$anonfun$internalReceive$1(ServerBackend.scala:147)\n\tat com.databricks.logging.UsageLogging.$anonfun$recordOperation$1(UsageLogging.scala:510)\n\tat com.databricks.logging.UsageLogging.executeThunkAndCaptureResultTags$1(UsageLogging.scala:616)\n\tat com.databricks.logging.UsageLogging.$anonfun$recordOperationWithResultTags$4(UsageLogging.scala:643)\n\tat com.databricks.logging.AttributionContextTracing.$anonfun$withAttributionContext$1(AttributionContextTracing.scala:49)\n\tat com.databricks.logging.AttributionContext$.$anonfun$withValue$1(AttributionContext.scala:290)\n\tat scala.util.DynamicVariable.withValue(DynamicVariable.scala:62)\n\tat com.databricks.logging.AttributionContext$.withValue(AttributionContext.scala:286)\n\tat com.databricks.logging.AttributionContextTracing.withAttributionContext(AttributionContextTracing.scala:47)\n\tat com.databricks.logging.AttributionContextTracing.withAttributionContext$(AttributionContextTracing.scala:44)\n\tat com.databricks.rpc.ServerBackend.withAttributionContext(ServerBackend.scala:22)\n\tat com.databricks.logging.AttributionContextTracing.withAttributionTags(AttributionContextTracing.scala:96)\n\tat com.databricks.logging.AttributionContextTracing.withAttributionTags$(AttributionContextTracing.scala:77)\n\tat com.databricks.rpc.ServerBackend.withAttributionTags(ServerBackend.scala:22)\n\tat com.databricks.logging.UsageLogging.recordOperationWithResultTags(UsageLogging.scala:611)\n\tat com.databricks.logging.UsageLogging.recordOperationWithResultTags$(UsageLogging.scala:519)\n\tat com.databricks.rpc.ServerBackend.recordOperationWithResultTags(ServerBackend.scala:22)\n\tat com.databricks.logging.UsageLogging.recordOperation(UsageLogging.scala:511)\n\tat com.databricks.logging.UsageLogging.recordOperation$(UsageLogging.scala:475)\n\tat com.databricks.rpc.ServerBackend.recordOperation(ServerBackend.scala:22)\n\tat com.databricks.rpc.ServerBackend.internalReceive(ServerBackend.scala:146)\n\tat com.databricks.rpc.JettyServer$RequestManager.handleRPC(JettyServer.scala:1033)\n\tat com.databricks.rpc.JettyServer$RequestManager.handleRequestAndRespond(JettyServer.scala:953)\n\tat com.databricks.rpc.JettyServer$RequestManager.$anonfun$handleHttp$5(JettyServer.scala:548)\n\tat com.databricks.rpc.JettyServer$RequestManager.$anonfun$handleHttp$5$adapted(JettyServer.scala:513)\n\tat com.databricks.logging.activity.ActivityContextFactory$.$anonfun$withActivityInternal$12(ActivityContextFactory.scala:860)\n\tat com.databricks.logging.AttributionContextTracing.$anonfun$withAttributionContext$1(AttributionContextTracing.scala:49)\n\tat com.databricks.logging.AttributionContext$.$anonfun$withValue$1(AttributionContext.scala:290)\n\tat scala.util.DynamicVariable.withValue(DynamicVariable.scala:62)\n\tat com.databricks.logging.AttributionContext$.withValue(AttributionContext.scala:286)\n\tat com.databricks.logging.AttributionContextTracing.withAttributionContext(AttributionContextTracing.scala:47)\n\tat com.databricks.logging.AttributionContextTracing.withAttributionContext$(AttributionContextTracing.scala:44)\n\tat com.databricks.logging.activity.ActivityContextFactory$.withAttributionContext(ActivityContextFactory.scala:53)\n\tat com.databricks.logging.activity.ActivityContextFactory$.$anonfun$withActivityInternal$2(ActivityContextFactory.scala:860)\n\tat com.databricks.context.integrity.IntegrityCheckContext$ThreadLocalStorage$.withValue(IntegrityCheckContext.scala:73)\n\tat com.databricks.logging.activity.ActivityContextFactory$.withActivityInternal(ActivityContextFactory.scala:823)\n\tat com.databricks.logging.activity.ActivityContextFactory$.withActivityInternal(ActivityContextFactory.scala:805)\n\tat com.databricks.logging.activity.ActivityContextFactory$.$anonfun$withServiceRequestActivity$15(ActivityContextFactory.scala:291)\n\tat com.databricks.logging.AttributionContextTracing.$anonfun$withAttributionContext$1(AttributionContextTracing.scala:49)\n\tat com.databricks.logging.AttributionContext$.$anonfun$withValue$1(AttributionContext.scala:290)\n\tat scala.util.DynamicVariable.withValue(DynamicVariable.scala:62)\n\tat com.databricks.logging.AttributionContext$.withValue(AttributionContext.scala:286)\n\tat com.databricks.logging.AttributionContextTracing.withAttributionContext(AttributionContextTracing.scala:47)\n\tat com.databricks.logging.AttributionContextTracing.withAttributionContext$(AttributionContextTracing.scala:44)\n\tat com.databricks.logging.activity.ActivityContextFactory$.withAttributionContext(ActivityContextFactory.scala:53)\n\tat com.databricks.logging.activity.ActivityContextFactory$.withServiceRequestActivity(ActivityContextFactory.scala:291)\n\tat com.databricks.rpc.JettyServer$RequestManager.handleHttp(JettyServer.scala:513)\n\tat com.databricks.rpc.JettyServer$RequestManager.doPost(JettyServer.scala:408)\n\tat javax.servlet.http.HttpServlet.service(HttpServlet.java:665)\n\tat com.databricks.rpc.HttpServletWithPatch.service(HttpServletWithPatch.scala:33)\n\tat javax.servlet.http.HttpServlet.service(HttpServlet.java:750)\n\tat org.eclipse.jetty.servlet.ServletHolder.handle(ServletHolder.java:799)\n\tat org.eclipse.jetty.servlet.ServletHandler.doHandle(ServletHandler.java:554)\n\tat org.eclipse.jetty.server.handler.ScopedHandler.nextScope(ScopedHandler.java:190)\n\tat org.eclipse.jetty.servlet.ServletHandler.doScope(ServletHandler.java:505)\n\tat org.eclipse.jetty.server.handler.ScopedHandler.handle(ScopedHandler.java:141)\n\tat org.eclipse.jetty.server.handler.HandlerWrapper.handle(HandlerWrapper.java:127)\n\tat org.eclipse.jetty.server.Server.handle(Server.java:516)\n\tat org.eclipse.jetty.server.HttpChannel.lambda$handle$1(HttpChannel.java:487)\n\tat org.eclipse.jetty.server.HttpChannel.dispatch(HttpChannel.java:732)\n\tat org.eclipse.jetty.server.HttpChannel.handle(HttpChannel.java:479)\n\tat org.eclipse.jetty.server.HttpConnection.onFillable(HttpConnection.java:277)\n\tat org.eclipse.jetty.io.AbstractConnection$ReadCallback.succeeded(AbstractConnection.java:311)\n\tat org.eclipse.jetty.io.FillInterest.fillable(FillInterest.java:105)\n\tat org.eclipse.jetty.io.ChannelEndPoint$1.run(ChannelEndPoint.java:104)\n\tat org.eclipse.jetty.util.thread.strategy.EatWhatYouKill.runTask(EatWhatYouKill.java:338)\n\tat org.eclipse.jetty.util.thread.strategy.EatWhatYouKill.doProduce(EatWhatYouKill.java:315)\n\tat org.eclipse.jetty.util.thread.strategy.EatWhatYouKill.tryProduce(EatWhatYouKill.java:173)\n\tat org.eclipse.jetty.util.thread.strategy.EatWhatYouKill.run(EatWhatYouKill.java:131)\n\tat org.eclipse.jetty.util.thread.ReservedThreadExecutor$ReservedThread.run(ReservedThreadExecutor.java:409)\n\tat com.databricks.rpc.InstrumentedQueuedThreadPool$$anon$1.$anonfun$run$2(InstrumentedQueuedThreadPool.scala:110)\n\tat scala.runtime.java8.JFunction0$mcV$sp.apply(JFunction0$mcV$sp.java:23)\n\tat com.databricks.logging.AttributionContextTracing.$anonfun$withAttributionContext$1(AttributionContextTracing.scala:49)\n\tat com.databricks.logging.AttributionContext$.$anonfun$withValue$1(AttributionContext.scala:290)\n\tat scala.util.DynamicVariable.withValue(DynamicVariable.scala:62)\n\tat com.databricks.logging.AttributionContext$.withValue(AttributionContext.scala:286)\n\tat com.databricks.logging.AttributionContextTracing.withAttributionContext(AttributionContextTracing.scala:47)\n\tat com.databricks.logging.AttributionContextTracing.withAttributionContext$(AttributionContextTracing.scala:44)\n\tat com.databricks.rpc.InstrumentedQueuedThreadPool.withAttributionContext(InstrumentedQueuedThreadPool.scala:45)\n\tat com.databricks.rpc.InstrumentedQueuedThreadPool$$anon$1.$anonfun$run$1(InstrumentedQueuedThreadPool.scala:110)\n\tat scala.runtime.java8.JFunction0$mcV$sp.apply(JFunction0$mcV$sp.java:23)\n\tat com.databricks.instrumentation.QueuedThreadPoolInstrumenter.trackActiveThreads(QueuedThreadPoolInstrumenter.scala:132)\n\tat com.databricks.instrumentation.QueuedThreadPoolInstrumenter.trackActiveThreads$(QueuedThreadPoolInstrumenter.scala:129)\n\tat com.databricks.rpc.InstrumentedQueuedThreadPool.trackActiveThreads(InstrumentedQueuedThreadPool.scala:45)\n\tat com.databricks.rpc.InstrumentedQueuedThreadPool$$anon$1.run(InstrumentedQueuedThreadPool.scala:92)\n\tat org.eclipse.jetty.util.thread.QueuedThreadPool.runJob(QueuedThreadPool.java:883)\n\tat org.eclipse.jetty.util.thread.QueuedThreadPool$Runner.run(QueuedThreadPool.java:1034)\n\tat java.lang.Thread.run(Thread.java:840)\n\nMontagem bem-sucedida: bronze\nMontagem bem-sucedida: silver\nMontagem bem-sucedida: gold\n"
     ]
    }
   ],
   "source": [
    "# Montando todos os containers\n",
    "\n",
    "mount_adls('landing-zone')\n",
    "mount_adls('bronze')\n",
    "mount_adls('silver')\n",
    "mount_adls('gold')"
   ]
  },
  {
   "cell_type": "code",
   "execution_count": 0,
   "metadata": {
    "application/vnd.databricks.v1+cell": {
     "cellMetadata": {
      "byteLimit": 2048000,
      "rowLimit": 10000
     },
     "inputWidgets": {},
     "nuid": "faa5edc7-7e45-45aa-92b5-2197d6fa7d6e",
     "showTitle": false,
     "tableResultSettingsMap": {},
     "title": ""
    }
   },
   "outputs": [
    {
     "output_type": "display_data",
     "data": {
      "text/html": [
       "<style scoped>\n",
       "  .table-result-container {\n",
       "    max-height: 300px;\n",
       "    overflow: auto;\n",
       "  }\n",
       "  table, th, td {\n",
       "    border: 1px solid black;\n",
       "    border-collapse: collapse;\n",
       "  }\n",
       "  th, td {\n",
       "    padding: 5px;\n",
       "  }\n",
       "  th {\n",
       "    text-align: left;\n",
       "  }\n",
       "</style><div class='table-result-container'><table class='table-result'><thead style='background-color: white'><tr><th>mountPoint</th><th>source</th><th>encryptionType</th></tr></thead><tbody><tr><td>/databricks-datasets</td><td>databricks-datasets</td><td></td></tr><tr><td>/Volumes</td><td>UnityCatalogVolumes</td><td></td></tr><tr><td>/databricks/mlflow-tracking</td><td>databricks/mlflow-tracking</td><td></td></tr><tr><td>/databricks-results</td><td>databricks-results</td><td></td></tr><tr><td>/mnt/datalakeea44c854c651c494/gold</td><td>wasbs://gold@datalakeea44c854c651c494.blob.core.windows.net</td><td></td></tr><tr><td>/databricks/mlflow-registry</td><td>databricks/mlflow-registry</td><td></td></tr><tr><td>/mnt/datalakeea44c854c651c494/bronze</td><td>wasbs://bronze@datalakeea44c854c651c494.blob.core.windows.net</td><td></td></tr><tr><td>/mnt/datalakeea44c854c651c494/landing-zone</td><td>wasbs://landing-zone@datalakeea44c854c651c494.blob.core.windows.net</td><td></td></tr><tr><td>/Volume</td><td>DbfsReserved</td><td></td></tr><tr><td>/mnt/datalakeea44c854c651c494/silver</td><td>wasbs://silver@datalakeea44c854c651c494.blob.core.windows.net</td><td></td></tr><tr><td>/volumes</td><td>DbfsReserved</td><td></td></tr><tr><td>/</td><td>DatabricksRoot</td><td></td></tr><tr><td>/volume</td><td>DbfsReserved</td><td></td></tr></tbody></table></div>"
      ]
     },
     "metadata": {
      "application/vnd.databricks.v1+output": {
       "addedWidgets": {},
       "aggData": [],
       "aggError": "",
       "aggOverflow": false,
       "aggSchema": [],
       "aggSeriesLimitReached": false,
       "aggType": "",
       "arguments": {},
       "columnCustomDisplayInfos": {},
       "data": [
        [
         "/databricks-datasets",
         "databricks-datasets",
         ""
        ],
        [
         "/Volumes",
         "UnityCatalogVolumes",
         ""
        ],
        [
         "/databricks/mlflow-tracking",
         "databricks/mlflow-tracking",
         ""
        ],
        [
         "/databricks-results",
         "databricks-results",
         ""
        ],
        [
         "/mnt/datalakeea44c854c651c494/gold",
         "wasbs://gold@datalakeea44c854c651c494.blob.core.windows.net",
         ""
        ],
        [
         "/databricks/mlflow-registry",
         "databricks/mlflow-registry",
         ""
        ],
        [
         "/mnt/datalakeea44c854c651c494/bronze",
         "wasbs://bronze@datalakeea44c854c651c494.blob.core.windows.net",
         ""
        ],
        [
         "/mnt/datalakeea44c854c651c494/landing-zone",
         "wasbs://landing-zone@datalakeea44c854c651c494.blob.core.windows.net",
         ""
        ],
        [
         "/Volume",
         "DbfsReserved",
         ""
        ],
        [
         "/mnt/datalakeea44c854c651c494/silver",
         "wasbs://silver@datalakeea44c854c651c494.blob.core.windows.net",
         ""
        ],
        [
         "/volumes",
         "DbfsReserved",
         ""
        ],
        [
         "/",
         "DatabricksRoot",
         ""
        ],
        [
         "/volume",
         "DbfsReserved",
         ""
        ]
       ],
       "datasetInfos": [],
       "dbfsResultPath": null,
       "isJsonSchema": true,
       "metadata": {},
       "overflow": false,
       "plotOptions": {
        "customPlotOptions": {},
        "displayType": "table",
        "pivotAggregation": null,
        "pivotColumns": null,
        "xColumns": null,
        "yColumns": null
       },
       "removedWidgets": [],
       "schema": [
        {
         "metadata": "{}",
         "name": "mountPoint",
         "type": "\"string\""
        },
        {
         "metadata": "{}",
         "name": "source",
         "type": "\"string\""
        },
        {
         "metadata": "{}",
         "name": "encryptionType",
         "type": "\"string\""
        }
       ],
       "type": "table"
      }
     },
     "output_type": "display_data"
    }
   ],
   "source": [
    "# Mostrando os pontos de montagem no cluster Databricks\n",
    "\n",
    "display(dbutils.fs.mounts())"
   ]
  },
  {
   "cell_type": "code",
   "execution_count": 0,
   "metadata": {
    "application/vnd.databricks.v1+cell": {
     "cellMetadata": {
      "byteLimit": 2048000,
      "rowLimit": 10000
     },
     "inputWidgets": {},
     "nuid": "fca33310-bdc5-4001-8f69-3e64ad22954d",
     "showTitle": false,
     "tableResultSettingsMap": {},
     "title": ""
    }
   },
   "outputs": [
    {
     "output_type": "display_data",
     "data": {
      "text/html": [
       "<style scoped>\n",
       "  .table-result-container {\n",
       "    max-height: 300px;\n",
       "    overflow: auto;\n",
       "  }\n",
       "  table, th, td {\n",
       "    border: 1px solid black;\n",
       "    border-collapse: collapse;\n",
       "  }\n",
       "  th, td {\n",
       "    padding: 5px;\n",
       "  }\n",
       "  th {\n",
       "    text-align: left;\n",
       "  }\n",
       "</style><div class='table-result-container'><table class='table-result'><thead style='background-color: white'><tr><th>path</th><th>name</th><th>size</th><th>modificationTime</th></tr></thead><tbody><tr><td>dbfs:/mnt/datalakeea44c854c651c494/landing-zone/circuits.csv</td><td>circuits.csv</td><td>10104</td><td>1750347523000</td></tr><tr><td>dbfs:/mnt/datalakeea44c854c651c494/landing-zone/constructor_results.csv</td><td>constructor_results.csv</td><td>219365</td><td>1750347523000</td></tr><tr><td>dbfs:/mnt/datalakeea44c854c651c494/landing-zone/constructor_standings.csv</td><td>constructor_standings.csv</td><td>317206</td><td>1750347523000</td></tr><tr><td>dbfs:/mnt/datalakeea44c854c651c494/landing-zone/constructors.csv</td><td>constructors.csv</td><td>17478</td><td>1750347523000</td></tr><tr><td>dbfs:/mnt/datalakeea44c854c651c494/landing-zone/driver_standings.csv</td><td>driver_standings.csv</td><td>883771</td><td>1750347523000</td></tr><tr><td>dbfs:/mnt/datalakeea44c854c651c494/landing-zone/drivers.csv</td><td>drivers.csv</td><td>94367</td><td>1750347523000</td></tr><tr><td>dbfs:/mnt/datalakeea44c854c651c494/landing-zone/lap_times.csv</td><td>lap_times.csv</td><td>17622395</td><td>1750347524000</td></tr><tr><td>dbfs:/mnt/datalakeea44c854c651c494/landing-zone/pit_stops.csv</td><td>pit_stops.csv</td><td>443719</td><td>1750347523000</td></tr><tr><td>dbfs:/mnt/datalakeea44c854c651c494/landing-zone/qualifying.csv</td><td>qualifying.csv</td><td>465231</td><td>1750347523000</td></tr><tr><td>dbfs:/mnt/datalakeea44c854c651c494/landing-zone/races.csv</td><td>races.csv</td><td>187042</td><td>1750347523000</td></tr><tr><td>dbfs:/mnt/datalakeea44c854c651c494/landing-zone/results.csv</td><td>results.csv</td><td>1721961</td><td>1750347523000</td></tr><tr><td>dbfs:/mnt/datalakeea44c854c651c494/landing-zone/seasons.csv</td><td>seasons.csv</td><td>4594</td><td>1750347523000</td></tr><tr><td>dbfs:/mnt/datalakeea44c854c651c494/landing-zone/sprint_results.csv</td><td>sprint_results.csv</td><td>24732</td><td>1750347523000</td></tr><tr><td>dbfs:/mnt/datalakeea44c854c651c494/landing-zone/status.csv</td><td>status.csv</td><td>2136</td><td>1750347523000</td></tr></tbody></table></div>"
      ]
     },
     "metadata": {
      "application/vnd.databricks.v1+output": {
       "addedWidgets": {},
       "aggData": [],
       "aggError": "",
       "aggOverflow": false,
       "aggSchema": [],
       "aggSeriesLimitReached": false,
       "aggType": "",
       "arguments": {},
       "columnCustomDisplayInfos": {},
       "data": [
        [
         "dbfs:/mnt/datalakeea44c854c651c494/landing-zone/circuits.csv",
         "circuits.csv",
         10104,
         1750347523000
        ],
        [
         "dbfs:/mnt/datalakeea44c854c651c494/landing-zone/constructor_results.csv",
         "constructor_results.csv",
         219365,
         1750347523000
        ],
        [
         "dbfs:/mnt/datalakeea44c854c651c494/landing-zone/constructor_standings.csv",
         "constructor_standings.csv",
         317206,
         1750347523000
        ],
        [
         "dbfs:/mnt/datalakeea44c854c651c494/landing-zone/constructors.csv",
         "constructors.csv",
         17478,
         1750347523000
        ],
        [
         "dbfs:/mnt/datalakeea44c854c651c494/landing-zone/driver_standings.csv",
         "driver_standings.csv",
         883771,
         1750347523000
        ],
        [
         "dbfs:/mnt/datalakeea44c854c651c494/landing-zone/drivers.csv",
         "drivers.csv",
         94367,
         1750347523000
        ],
        [
         "dbfs:/mnt/datalakeea44c854c651c494/landing-zone/lap_times.csv",
         "lap_times.csv",
         17622395,
         1750347524000
        ],
        [
         "dbfs:/mnt/datalakeea44c854c651c494/landing-zone/pit_stops.csv",
         "pit_stops.csv",
         443719,
         1750347523000
        ],
        [
         "dbfs:/mnt/datalakeea44c854c651c494/landing-zone/qualifying.csv",
         "qualifying.csv",
         465231,
         1750347523000
        ],
        [
         "dbfs:/mnt/datalakeea44c854c651c494/landing-zone/races.csv",
         "races.csv",
         187042,
         1750347523000
        ],
        [
         "dbfs:/mnt/datalakeea44c854c651c494/landing-zone/results.csv",
         "results.csv",
         1721961,
         1750347523000
        ],
        [
         "dbfs:/mnt/datalakeea44c854c651c494/landing-zone/seasons.csv",
         "seasons.csv",
         4594,
         1750347523000
        ],
        [
         "dbfs:/mnt/datalakeea44c854c651c494/landing-zone/sprint_results.csv",
         "sprint_results.csv",
         24732,
         1750347523000
        ],
        [
         "dbfs:/mnt/datalakeea44c854c651c494/landing-zone/status.csv",
         "status.csv",
         2136,
         1750347523000
        ]
       ],
       "datasetInfos": [],
       "dbfsResultPath": null,
       "isJsonSchema": true,
       "metadata": {},
       "overflow": false,
       "plotOptions": {
        "customPlotOptions": {},
        "displayType": "table",
        "pivotAggregation": null,
        "pivotColumns": null,
        "xColumns": null,
        "yColumns": null
       },
       "removedWidgets": [],
       "schema": [
        {
         "metadata": "{}",
         "name": "path",
         "type": "\"string\""
        },
        {
         "metadata": "{}",
         "name": "name",
         "type": "\"string\""
        },
        {
         "metadata": "{}",
         "name": "size",
         "type": "\"long\""
        },
        {
         "metadata": "{}",
         "name": "modificationTime",
         "type": "\"long\""
        }
       ],
       "type": "table"
      }
     },
     "output_type": "display_data"
    }
   ],
   "source": [
    "# Mostrando todos os arquivos da camada landing-zone\n",
    " \n",
    "display(dbutils.fs.ls(f\"/mnt/{storageAccountName}/landing-zone\"))"
   ]
  },
  {
   "cell_type": "code",
   "execution_count": 0,
   "metadata": {
    "application/vnd.databricks.v1+cell": {
     "cellMetadata": {
      "byteLimit": 2048000,
      "rowLimit": 10000
     },
     "inputWidgets": {},
     "nuid": "be724f9a-87b2-4eae-b041-bc8c45b8751f",
     "showTitle": false,
     "tableResultSettingsMap": {},
     "title": ""
    }
   },
   "outputs": [],
   "source": [
    "# Gerando um dataframe para cada arquivo a partir dos arquivos CSV e gravado no container landing-zone do Azure Data Lake Storage\n",
    "\n",
    "df_circuits = spark.read.option(\"infeschema\", \"true\").option(\"header\", \"true\").csv(f\"/mnt/{storageAccountName}/landing-zone/circuits.csv\")\n",
    "df_constructor_results   = spark.read.option(\"infeschema\", \"true\").option(\"header\", \"true\").csv(f\"/mnt/{storageAccountName}/landing-zone/constructor_results.csv\")\n",
    "df_constructor_standings = spark.read.option(\"infeschema\", \"true\").option(\"header\", \"true\").csv(f\"/mnt/{storageAccountName}/landing-zone/constructor_standings.csv\")\n",
    "df_constructors     = spark.read.option(\"infeschema\", \"true\").option(\"header\", \"true\").csv(f\"/mnt/{storageAccountName}/landing-zone/constructors.csv\")\n",
    "df_driver_standings = spark.read.option(\"infeschema\", \"true\").option(\"header\", \"true\").csv(f\"/mnt/{storageAccountName}/landing-zone/driver_standings.csv\")\n",
    "df_drivers    = spark.read.option(\"infeschema\", \"true\").option(\"header\", \"true\").csv(f\"/mnt/{storageAccountName}/landing-zone/drivers.csv\")\n",
    "df_lap_times  = spark.read.option(\"infeschema\", \"true\").option(\"header\", \"true\").csv(f\"/mnt/{storageAccountName}/landing-zone/lap_times.csv\")\n",
    "df_pit_stops  = spark.read.option(\"infeschema\", \"true\").option(\"header\", \"true\").csv(f\"/mnt/{storageAccountName}/landing-zone/pit_stops.csv\")\n",
    "df_qualifying = spark.read.option(\"infeschema\", \"true\").option(\"header\", \"true\").csv(f\"/mnt/{storageAccountName}/landing-zone/qualifying.csv\")\n",
    "df_races   = spark.read.option(\"infeschema\", \"true\").option(\"header\", \"true\").csv(f\"/mnt/{storageAccountName}/landing-zone/races.csv\")\n",
    "df_results = spark.read.option(\"infeschema\", \"true\").option(\"header\", \"true\").csv(f\"/mnt/{storageAccountName}/landing-zone/results.csv\")\n",
    "df_seasons = spark.read.option(\"infeschema\", \"true\").option(\"header\", \"true\").csv(f\"/mnt/{storageAccountName}/landing-zone/seasons.csv\")\n",
    "df_sprint_results = spark.read.option(\"infeschema\", \"true\").option(\"header\", \"true\").csv(f\"/mnt/{storageAccountName}/landing-zone/sprint_results.csv\")\n",
    "df_status  = spark.read.option(\"infeschema\", \"true\").option(\"header\", \"true\").csv(f\"/mnt/{storageAccountName}/landing-zone/status.csv\")"
   ]
  },
  {
   "cell_type": "code",
   "execution_count": 0,
   "metadata": {
    "application/vnd.databricks.v1+cell": {
     "cellMetadata": {
      "byteLimit": 2048000,
      "rowLimit": 10000
     },
     "inputWidgets": {},
     "nuid": "651b9d91-55b4-4ff2-a6c3-f6d02e42b16c",
     "showTitle": false,
     "tableResultSettingsMap": {},
     "title": ""
    }
   },
   "outputs": [],
   "source": [
    "# Adicionando metadados de data e hora de processamento e nome do arquivo de origem\n",
    "\n",
    "from pyspark.sql.functions import current_timestamp, lit\n",
    "\n",
    "df_circuits = df_circuits.withColumn(\"data_hora_bronze\", current_timestamp()).withColumn(\"nome_arquivo\", lit(\"circuits.csv\"))\n",
    "df_constructor_results   = df_constructor_results.withColumn(\"data_hora_bronze\", current_timestamp()).withColumn(\"nome_arquivo\", lit(\"constructor_results.csv\"))\n",
    "df_constructor_standings = df_constructor_standings.withColumn(\"data_hora_bronze\", current_timestamp()).withColumn(\"nome_arquivo\", lit(\"constructor_standings.csv\"))\n",
    "df_constructors  = df_constructors.withColumn(\"data_hora_bronze\", current_timestamp()).withColumn(\"nome_arquivo\", lit(\"constructors.csv\"))\n",
    "df_driver_standings = df_driver_standings.withColumn(\"data_hora_bronze\", current_timestamp()).withColumn(\"nome_arquivo\", lit(\"driver_standings.csv\"))\n",
    "df_drivers       = df_drivers.withColumn(\"data_hora_bronze\", current_timestamp()).withColumn(\"nome_arquivo\", lit(\"drivers.csv\"))\n",
    "df_lap_times     = df_lap_times.withColumn(\"data_hora_bronze\", current_timestamp()).withColumn(\"nome_arquivo\", lit(\"lap_times.csv\"))\n",
    "df_pit_stops     = df_pit_stops.withColumn(\"data_hora_bronze\", current_timestamp()).withColumn(\"nome_arquivo\", lit(\"pit_stops.csv\"))\n",
    "df_qualifying    = df_qualifying.withColumn(\"data_hora_bronze\", current_timestamp()).withColumn(\"nome_arquivo\", lit(\"qualifying.csv\"))\n",
    "df_races         = df_races.withColumn(\"data_hora_bronze\", current_timestamp()).withColumn(\"nome_arquivo\", lit(\"races.csv\"))\n",
    "df_results       = df_results.withColumn(\"data_hora_bronze\", current_timestamp()).withColumn(\"nome_arquivo\", lit(\"results.csv\"))\n",
    "df_seasons       = df_seasons.withColumn(\"data_hora_bronze\", current_timestamp()).withColumn(\"nome_arquivo\", lit(\"seasons.csv\"))\n",
    "df_sprint_results = df_sprint_results.withColumn(\"data_hora_bronze\", current_timestamp()).withColumn(\"nome_arquivo\", lit(\"sprint_results.csv\"))\n",
    "df_status        = df_status.withColumn(\"data_hora_bronze\", current_timestamp()).withColumn(\"nome_arquivo\", lit(\"status.csv\"))"
   ]
  },
  {
   "cell_type": "code",
   "execution_count": 0,
   "metadata": {
    "application/vnd.databricks.v1+cell": {
     "cellMetadata": {
      "byteLimit": 2048000,
      "rowLimit": 10000
     },
     "inputWidgets": {},
     "nuid": "fe98db84-7a71-429a-bedb-22d3b4a8298f",
     "showTitle": false,
     "tableResultSettingsMap": {},
     "title": ""
    }
   },
   "outputs": [],
   "source": [
    "# Salvando os dataframes em delta lake (formato de arquivo) no Data Lake (repositorio cloud)\n",
    "\n",
    "df_circuits.write.format('delta').save(f\"/mnt/{storageAccountName}/bronze/circuits\")\n",
    "df_constructor_results.write.format('delta').save(f\"/mnt/{storageAccountName}/bronze/constructor_results\")\n",
    "df_constructor_standings.write.format('delta').save(f\"/mnt/{storageAccountName}/bronze/constructor_standings\")\n",
    "df_constructors.write.format('delta').save(f\"/mnt/{storageAccountName}/bronze/constructors\")\n",
    "df_driver_standings.write.format('delta').save(f\"/mnt/{storageAccountName}/bronze/driver_standings\")\n",
    "df_drivers.write.format('delta').save(f\"/mnt/{storageAccountName}/bronze/drivers\")\n",
    "df_lap_times.write.format('delta').save(f\"/mnt/{storageAccountName}/bronze/lap_times\")\n",
    "df_pit_stops.write.format('delta').save(f\"/mnt/{storageAccountName}/bronze/pit_stops\")\n",
    "df_qualifying.write.format('delta').save(f\"/mnt/{storageAccountName}/bronze/qualifying\")\n",
    "df_races.write.format('delta').save(f\"/mnt/{storageAccountName}/bronze/races\")\n",
    "df_results.write.format('delta').save(f\"/mnt/{storageAccountName}/bronze/results\")\n",
    "df_seasons.write.format('delta').save(f\"/mnt/{storageAccountName}/bronze/seasons\")\n",
    "df_sprint_results.write.format('delta').save(f\"/mnt/{storageAccountName}/bronze/sprint_results\")\n",
    "df_status.write.format('delta').save(f\"/mnt/{storageAccountName}/bronze/status\")"
   ]
  },
  {
   "cell_type": "code",
   "execution_count": 0,
   "metadata": {
    "application/vnd.databricks.v1+cell": {
     "cellMetadata": {
      "byteLimit": 2048000,
      "rowLimit": 10000
     },
     "inputWidgets": {},
     "nuid": "80185666-b73a-4ecc-ba64-8c8e1d0744c6",
     "showTitle": false,
     "tableResultSettingsMap": {},
     "title": ""
    }
   },
   "outputs": [
    {
     "output_type": "display_data",
     "data": {
      "text/html": [
       "<style scoped>\n",
       "  .table-result-container {\n",
       "    max-height: 300px;\n",
       "    overflow: auto;\n",
       "  }\n",
       "  table, th, td {\n",
       "    border: 1px solid black;\n",
       "    border-collapse: collapse;\n",
       "  }\n",
       "  th, td {\n",
       "    padding: 5px;\n",
       "  }\n",
       "  th {\n",
       "    text-align: left;\n",
       "  }\n",
       "</style><div class='table-result-container'><table class='table-result'><thead style='background-color: white'><tr><th>path</th><th>name</th><th>size</th><th>modificationTime</th></tr></thead><tbody><tr><td>dbfs:/mnt/datalakeea44c854c651c494/bronze/circuits/</td><td>circuits/</td><td>0</td><td>0</td></tr><tr><td>dbfs:/mnt/datalakeea44c854c651c494/bronze/constructor_results/</td><td>constructor_results/</td><td>0</td><td>0</td></tr><tr><td>dbfs:/mnt/datalakeea44c854c651c494/bronze/constructor_standings/</td><td>constructor_standings/</td><td>0</td><td>0</td></tr><tr><td>dbfs:/mnt/datalakeea44c854c651c494/bronze/constructors/</td><td>constructors/</td><td>0</td><td>0</td></tr><tr><td>dbfs:/mnt/datalakeea44c854c651c494/bronze/driver_standings/</td><td>driver_standings/</td><td>0</td><td>0</td></tr><tr><td>dbfs:/mnt/datalakeea44c854c651c494/bronze/drivers/</td><td>drivers/</td><td>0</td><td>0</td></tr><tr><td>dbfs:/mnt/datalakeea44c854c651c494/bronze/lap_times/</td><td>lap_times/</td><td>0</td><td>0</td></tr><tr><td>dbfs:/mnt/datalakeea44c854c651c494/bronze/pit_stops/</td><td>pit_stops/</td><td>0</td><td>0</td></tr><tr><td>dbfs:/mnt/datalakeea44c854c651c494/bronze/qualifying/</td><td>qualifying/</td><td>0</td><td>0</td></tr><tr><td>dbfs:/mnt/datalakeea44c854c651c494/bronze/races/</td><td>races/</td><td>0</td><td>0</td></tr><tr><td>dbfs:/mnt/datalakeea44c854c651c494/bronze/results/</td><td>results/</td><td>0</td><td>0</td></tr><tr><td>dbfs:/mnt/datalakeea44c854c651c494/bronze/seasons/</td><td>seasons/</td><td>0</td><td>0</td></tr><tr><td>dbfs:/mnt/datalakeea44c854c651c494/bronze/sprint_results/</td><td>sprint_results/</td><td>0</td><td>0</td></tr><tr><td>dbfs:/mnt/datalakeea44c854c651c494/bronze/status/</td><td>status/</td><td>0</td><td>0</td></tr></tbody></table></div>"
      ]
     },
     "metadata": {
      "application/vnd.databricks.v1+output": {
       "addedWidgets": {},
       "aggData": [],
       "aggError": "",
       "aggOverflow": false,
       "aggSchema": [],
       "aggSeriesLimitReached": false,
       "aggType": "",
       "arguments": {},
       "columnCustomDisplayInfos": {},
       "data": [
        [
         "dbfs:/mnt/datalakeea44c854c651c494/bronze/circuits/",
         "circuits/",
         0,
         0
        ],
        [
         "dbfs:/mnt/datalakeea44c854c651c494/bronze/constructor_results/",
         "constructor_results/",
         0,
         0
        ],
        [
         "dbfs:/mnt/datalakeea44c854c651c494/bronze/constructor_standings/",
         "constructor_standings/",
         0,
         0
        ],
        [
         "dbfs:/mnt/datalakeea44c854c651c494/bronze/constructors/",
         "constructors/",
         0,
         0
        ],
        [
         "dbfs:/mnt/datalakeea44c854c651c494/bronze/driver_standings/",
         "driver_standings/",
         0,
         0
        ],
        [
         "dbfs:/mnt/datalakeea44c854c651c494/bronze/drivers/",
         "drivers/",
         0,
         0
        ],
        [
         "dbfs:/mnt/datalakeea44c854c651c494/bronze/lap_times/",
         "lap_times/",
         0,
         0
        ],
        [
         "dbfs:/mnt/datalakeea44c854c651c494/bronze/pit_stops/",
         "pit_stops/",
         0,
         0
        ],
        [
         "dbfs:/mnt/datalakeea44c854c651c494/bronze/qualifying/",
         "qualifying/",
         0,
         0
        ],
        [
         "dbfs:/mnt/datalakeea44c854c651c494/bronze/races/",
         "races/",
         0,
         0
        ],
        [
         "dbfs:/mnt/datalakeea44c854c651c494/bronze/results/",
         "results/",
         0,
         0
        ],
        [
         "dbfs:/mnt/datalakeea44c854c651c494/bronze/seasons/",
         "seasons/",
         0,
         0
        ],
        [
         "dbfs:/mnt/datalakeea44c854c651c494/bronze/sprint_results/",
         "sprint_results/",
         0,
         0
        ],
        [
         "dbfs:/mnt/datalakeea44c854c651c494/bronze/status/",
         "status/",
         0,
         0
        ]
       ],
       "datasetInfos": [],
       "dbfsResultPath": null,
       "isJsonSchema": true,
       "metadata": {},
       "overflow": false,
       "plotOptions": {
        "customPlotOptions": {},
        "displayType": "table",
        "pivotAggregation": null,
        "pivotColumns": null,
        "xColumns": null,
        "yColumns": null
       },
       "removedWidgets": [],
       "schema": [
        {
         "metadata": "{}",
         "name": "path",
         "type": "\"string\""
        },
        {
         "metadata": "{}",
         "name": "name",
         "type": "\"string\""
        },
        {
         "metadata": "{}",
         "name": "size",
         "type": "\"long\""
        },
        {
         "metadata": "{}",
         "name": "modificationTime",
         "type": "\"long\""
        }
       ],
       "type": "table"
      }
     },
     "output_type": "display_data"
    }
   ],
   "source": [
    "# Verificando os dados gravados em delta na camada BRONZE\n",
    "\n",
    "display(dbutils.fs.ls(f\"/mnt/{storageAccountName}/bronze/\"))"
   ]
  },
  {
   "cell_type": "code",
   "execution_count": 0,
   "metadata": {
    "application/vnd.databricks.v1+cell": {
     "cellMetadata": {
      "byteLimit": 2048000,
      "rowLimit": 10000
     },
     "inputWidgets": {},
     "nuid": "e3c0ff65-faed-4e85-a2ef-e87ffac7d553",
     "showTitle": false,
     "tableResultSettingsMap": {},
     "title": ""
    }
   },
   "outputs": [
    {
     "output_type": "display_data",
     "data": {
      "text/html": [
       "<style scoped>\n",
       "  .table-result-container {\n",
       "    max-height: 300px;\n",
       "    overflow: auto;\n",
       "  }\n",
       "  table, th, td {\n",
       "    border: 1px solid black;\n",
       "    border-collapse: collapse;\n",
       "  }\n",
       "  th, td {\n",
       "    padding: 5px;\n",
       "  }\n",
       "  th {\n",
       "    text-align: left;\n",
       "  }\n",
       "</style><div class='table-result-container'><table class='table-result'><thead style='background-color: white'><tr><th>driverId</th><th>driverRef</th><th>number</th><th>code</th><th>forename</th><th>surname</th><th>dob</th><th>nationality</th><th>url</th><th>data_hora_bronze</th><th>nome_arquivo</th></tr></thead><tbody><tr><td>1</td><td>hamilton</td><td>44</td><td>HAM</td><td>Lewis</td><td>Hamilton</td><td>1985-01-07</td><td>British</td><td>http://en.wikipedia.org/wiki/Lewis_Hamilton</td><td>2025-06-19T21:54:03.058Z</td><td>drivers.csv</td></tr><tr><td>2</td><td>heidfeld</td><td>\\N</td><td>HEI</td><td>Nick</td><td>Heidfeld</td><td>1977-05-10</td><td>German</td><td>http://en.wikipedia.org/wiki/Nick_Heidfeld</td><td>2025-06-19T21:54:03.058Z</td><td>drivers.csv</td></tr><tr><td>3</td><td>rosberg</td><td>6</td><td>ROS</td><td>Nico</td><td>Rosberg</td><td>1985-06-27</td><td>German</td><td>http://en.wikipedia.org/wiki/Nico_Rosberg</td><td>2025-06-19T21:54:03.058Z</td><td>drivers.csv</td></tr><tr><td>4</td><td>alonso</td><td>14</td><td>ALO</td><td>Fernando</td><td>Alonso</td><td>1981-07-29</td><td>Spanish</td><td>http://en.wikipedia.org/wiki/Fernando_Alonso</td><td>2025-06-19T21:54:03.058Z</td><td>drivers.csv</td></tr><tr><td>5</td><td>kovalainen</td><td>\\N</td><td>KOV</td><td>Heikki</td><td>Kovalainen</td><td>1981-10-19</td><td>Finnish</td><td>http://en.wikipedia.org/wiki/Heikki_Kovalainen</td><td>2025-06-19T21:54:03.058Z</td><td>drivers.csv</td></tr><tr><td>6</td><td>nakajima</td><td>\\N</td><td>NAK</td><td>Kazuki</td><td>Nakajima</td><td>1985-01-11</td><td>Japanese</td><td>http://en.wikipedia.org/wiki/Kazuki_Nakajima</td><td>2025-06-19T21:54:03.058Z</td><td>drivers.csv</td></tr><tr><td>7</td><td>bourdais</td><td>\\N</td><td>BOU</td><td>Sébastien</td><td>Bourdais</td><td>1979-02-28</td><td>French</td><td>http://en.wikipedia.org/wiki/S%C3%A9bastien_Bourdais</td><td>2025-06-19T21:54:03.058Z</td><td>drivers.csv</td></tr><tr><td>8</td><td>raikkonen</td><td>7</td><td>RAI</td><td>Kimi</td><td>Räikkönen</td><td>1979-10-17</td><td>Finnish</td><td>http://en.wikipedia.org/wiki/Kimi_R%C3%A4ikk%C3%B6nen</td><td>2025-06-19T21:54:03.058Z</td><td>drivers.csv</td></tr><tr><td>9</td><td>kubica</td><td>88</td><td>KUB</td><td>Robert</td><td>Kubica</td><td>1984-12-07</td><td>Polish</td><td>http://en.wikipedia.org/wiki/Robert_Kubica</td><td>2025-06-19T21:54:03.058Z</td><td>drivers.csv</td></tr><tr><td>10</td><td>glock</td><td>\\N</td><td>GLO</td><td>Timo</td><td>Glock</td><td>1982-03-18</td><td>German</td><td>http://en.wikipedia.org/wiki/Timo_Glock</td><td>2025-06-19T21:54:03.058Z</td><td>drivers.csv</td></tr></tbody></table></div>"
      ]
     },
     "metadata": {
      "application/vnd.databricks.v1+output": {
       "addedWidgets": {},
       "aggData": [],
       "aggError": "",
       "aggOverflow": false,
       "aggSchema": [],
       "aggSeriesLimitReached": false,
       "aggType": "",
       "arguments": {},
       "columnCustomDisplayInfos": {},
       "data": [
        [
         "1",
         "hamilton",
         "44",
         "HAM",
         "Lewis",
         "Hamilton",
         "1985-01-07",
         "British",
         "http://en.wikipedia.org/wiki/Lewis_Hamilton",
         "2025-06-19T21:54:03.058Z",
         "drivers.csv"
        ],
        [
         "2",
         "heidfeld",
         "\\N",
         "HEI",
         "Nick",
         "Heidfeld",
         "1977-05-10",
         "German",
         "http://en.wikipedia.org/wiki/Nick_Heidfeld",
         "2025-06-19T21:54:03.058Z",
         "drivers.csv"
        ],
        [
         "3",
         "rosberg",
         "6",
         "ROS",
         "Nico",
         "Rosberg",
         "1985-06-27",
         "German",
         "http://en.wikipedia.org/wiki/Nico_Rosberg",
         "2025-06-19T21:54:03.058Z",
         "drivers.csv"
        ],
        [
         "4",
         "alonso",
         "14",
         "ALO",
         "Fernando",
         "Alonso",
         "1981-07-29",
         "Spanish",
         "http://en.wikipedia.org/wiki/Fernando_Alonso",
         "2025-06-19T21:54:03.058Z",
         "drivers.csv"
        ],
        [
         "5",
         "kovalainen",
         "\\N",
         "KOV",
         "Heikki",
         "Kovalainen",
         "1981-10-19",
         "Finnish",
         "http://en.wikipedia.org/wiki/Heikki_Kovalainen",
         "2025-06-19T21:54:03.058Z",
         "drivers.csv"
        ],
        [
         "6",
         "nakajima",
         "\\N",
         "NAK",
         "Kazuki",
         "Nakajima",
         "1985-01-11",
         "Japanese",
         "http://en.wikipedia.org/wiki/Kazuki_Nakajima",
         "2025-06-19T21:54:03.058Z",
         "drivers.csv"
        ],
        [
         "7",
         "bourdais",
         "\\N",
         "BOU",
         "Sébastien",
         "Bourdais",
         "1979-02-28",
         "French",
         "http://en.wikipedia.org/wiki/S%C3%A9bastien_Bourdais",
         "2025-06-19T21:54:03.058Z",
         "drivers.csv"
        ],
        [
         "8",
         "raikkonen",
         "7",
         "RAI",
         "Kimi",
         "Räikkönen",
         "1979-10-17",
         "Finnish",
         "http://en.wikipedia.org/wiki/Kimi_R%C3%A4ikk%C3%B6nen",
         "2025-06-19T21:54:03.058Z",
         "drivers.csv"
        ],
        [
         "9",
         "kubica",
         "88",
         "KUB",
         "Robert",
         "Kubica",
         "1984-12-07",
         "Polish",
         "http://en.wikipedia.org/wiki/Robert_Kubica",
         "2025-06-19T21:54:03.058Z",
         "drivers.csv"
        ],
        [
         "10",
         "glock",
         "\\N",
         "GLO",
         "Timo",
         "Glock",
         "1982-03-18",
         "German",
         "http://en.wikipedia.org/wiki/Timo_Glock",
         "2025-06-19T21:54:03.058Z",
         "drivers.csv"
        ]
       ],
       "datasetInfos": [],
       "dbfsResultPath": null,
       "isJsonSchema": true,
       "metadata": {},
       "overflow": false,
       "plotOptions": {
        "customPlotOptions": {},
        "displayType": "table",
        "pivotAggregation": null,
        "pivotColumns": null,
        "xColumns": null,
        "yColumns": null
       },
       "removedWidgets": [],
       "schema": [
        {
         "metadata": "{}",
         "name": "driverId",
         "type": "\"string\""
        },
        {
         "metadata": "{}",
         "name": "driverRef",
         "type": "\"string\""
        },
        {
         "metadata": "{}",
         "name": "number",
         "type": "\"string\""
        },
        {
         "metadata": "{}",
         "name": "code",
         "type": "\"string\""
        },
        {
         "metadata": "{}",
         "name": "forename",
         "type": "\"string\""
        },
        {
         "metadata": "{}",
         "name": "surname",
         "type": "\"string\""
        },
        {
         "metadata": "{}",
         "name": "dob",
         "type": "\"string\""
        },
        {
         "metadata": "{}",
         "name": "nationality",
         "type": "\"string\""
        },
        {
         "metadata": "{}",
         "name": "url",
         "type": "\"string\""
        },
        {
         "metadata": "{}",
         "name": "data_hora_bronze",
         "type": "\"timestamp\""
        },
        {
         "metadata": "{}",
         "name": "nome_arquivo",
         "type": "\"string\""
        }
       ],
       "type": "table"
      }
     },
     "output_type": "display_data"
    }
   ],
   "source": [
    "# Consultando um exemplo de um delta lake para validar a existência dos dados e das colunas do metadados na camada BRONZE\n",
    "\n",
    "spark.read.format('delta').load(f'/mnt/{storageAccountName}/bronze/drivers').limit(10).display()"
   ]
  }
 ],
 "metadata": {
  "application/vnd.databricks.v1+notebook": {
   "computePreferences": null,
   "dashboards": [],
   "environmentMetadata": {
    "base_environment": "",
    "environment_version": "2"
   },
   "inputWidgetPreferences": null,
   "language": "python",
   "notebookMetadata": {
    "pythonIndentUnit": 4
   },
   "notebookName": "Notebook Bronze - William",
   "widgets": {}
  },
  "language_info": {
   "name": "python"
  }
 },
 "nbformat": 4,
 "nbformat_minor": 0
}
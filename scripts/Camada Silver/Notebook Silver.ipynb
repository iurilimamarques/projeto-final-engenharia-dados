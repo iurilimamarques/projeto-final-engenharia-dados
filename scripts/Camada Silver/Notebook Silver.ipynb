{
 "cells": [
  {
   "cell_type": "code",
   "execution_count": 0,
   "metadata": {
    "application/vnd.databricks.v1+cell": {
     "cellMetadata": {
      "byteLimit": 2048000,
      "rowLimit": 10000
     },
     "inputWidgets": {},
     "nuid": "e8f3ab26-58d5-4953-a989-461c2854855c",
     "showTitle": false,
     "tableResultSettingsMap": {},
     "title": ""
    }
   },
   "outputs": [
    {
     "output_type": "execute_result",
     "data": {
      "text/html": [
       "\n",
       "            <div>\n",
       "                <p><b>SparkSession - hive</b></p>\n",
       "                \n",
       "        <div>\n",
       "            <p><b>SparkContext</b></p>\n",
       "\n",
       "            <p><a href=\"/?o=1378930639239625#setting/sparkui/0619-181814-ngvukwoi/driver-9075173108518649330\">Spark UI</a></p>\n",
       "\n",
       "            <dl>\n",
       "              <dt>Version</dt>\n",
       "                <dd><code>v3.5.0</code></dd>\n",
       "              <dt>Master</dt>\n",
       "                <dd><code>local[*, 4]</code></dd>\n",
       "              <dt>AppName</dt>\n",
       "                <dd><code>Databricks Shell</code></dd>\n",
       "            </dl>\n",
       "        </div>\n",
       "        \n",
       "            </div>\n",
       "        "
      ],
      "text/plain": [
       "<pyspark.sql.session.SparkSession at 0x711510b5cb90>"
      ]
     },
     "execution_count": 45,
     "metadata": {},
     "output_type": "execute_result"
    }
   ],
   "source": [
    "# Validando a SparkSession\n",
    "\n",
    "spark"
   ]
  },
  {
   "cell_type": "code",
   "execution_count": 0,
   "metadata": {
    "application/vnd.databricks.v1+cell": {
     "cellMetadata": {
      "byteLimit": 2048000,
      "rowLimit": 10000
     },
     "inputWidgets": {},
     "nuid": "b075a499-9eed-4f5f-b974-315de4e989e3",
     "showTitle": false,
     "tableResultSettingsMap": {},
     "title": ""
    }
   },
   "outputs": [
    {
     "output_type": "display_data",
     "data": {
      "text/html": [
       "<style scoped>\n",
       "  .table-result-container {\n",
       "    max-height: 300px;\n",
       "    overflow: auto;\n",
       "  }\n",
       "  table, th, td {\n",
       "    border: 1px solid black;\n",
       "    border-collapse: collapse;\n",
       "  }\n",
       "  th, td {\n",
       "    padding: 5px;\n",
       "  }\n",
       "  th {\n",
       "    text-align: left;\n",
       "  }\n",
       "</style><div class='table-result-container'><table class='table-result'><thead style='background-color: white'><tr><th>mountPoint</th><th>source</th><th>encryptionType</th></tr></thead><tbody><tr><td>/databricks-datasets</td><td>databricks-datasets</td><td></td></tr><tr><td>/Volumes</td><td>UnityCatalogVolumes</td><td></td></tr><tr><td>/databricks/mlflow-tracking</td><td>databricks/mlflow-tracking</td><td></td></tr><tr><td>/databricks-results</td><td>databricks-results</td><td></td></tr><tr><td>/mnt/datalakeea44c854c651c494/gold</td><td>wasbs://gold@datalakeea44c854c651c494.blob.core.windows.net</td><td></td></tr><tr><td>/databricks/mlflow-registry</td><td>databricks/mlflow-registry</td><td></td></tr><tr><td>/mnt/datalakeea44c854c651c494/bronze</td><td>wasbs://bronze@datalakeea44c854c651c494.blob.core.windows.net</td><td></td></tr><tr><td>/mnt/datalakeea44c854c651c494/landing-zone</td><td>wasbs://landing-zone@datalakeea44c854c651c494.blob.core.windows.net</td><td></td></tr><tr><td>/Volume</td><td>DbfsReserved</td><td></td></tr><tr><td>/mnt/datalakeea44c854c651c494/silver</td><td>wasbs://silver@datalakeea44c854c651c494.blob.core.windows.net</td><td></td></tr><tr><td>/volumes</td><td>DbfsReserved</td><td></td></tr><tr><td>/</td><td>DatabricksRoot</td><td></td></tr><tr><td>/volume</td><td>DbfsReserved</td><td></td></tr></tbody></table></div>"
      ]
     },
     "metadata": {
      "application/vnd.databricks.v1+output": {
       "addedWidgets": {},
       "aggData": [],
       "aggError": "",
       "aggOverflow": false,
       "aggSchema": [],
       "aggSeriesLimitReached": false,
       "aggType": "",
       "arguments": {},
       "columnCustomDisplayInfos": {},
       "data": [
        [
         "/databricks-datasets",
         "databricks-datasets",
         ""
        ],
        [
         "/Volumes",
         "UnityCatalogVolumes",
         ""
        ],
        [
         "/databricks/mlflow-tracking",
         "databricks/mlflow-tracking",
         ""
        ],
        [
         "/databricks-results",
         "databricks-results",
         ""
        ],
        [
         "/mnt/datalakeea44c854c651c494/gold",
         "wasbs://gold@datalakeea44c854c651c494.blob.core.windows.net",
         ""
        ],
        [
         "/databricks/mlflow-registry",
         "databricks/mlflow-registry",
         ""
        ],
        [
         "/mnt/datalakeea44c854c651c494/bronze",
         "wasbs://bronze@datalakeea44c854c651c494.blob.core.windows.net",
         ""
        ],
        [
         "/mnt/datalakeea44c854c651c494/landing-zone",
         "wasbs://landing-zone@datalakeea44c854c651c494.blob.core.windows.net",
         ""
        ],
        [
         "/Volume",
         "DbfsReserved",
         ""
        ],
        [
         "/mnt/datalakeea44c854c651c494/silver",
         "wasbs://silver@datalakeea44c854c651c494.blob.core.windows.net",
         ""
        ],
        [
         "/volumes",
         "DbfsReserved",
         ""
        ],
        [
         "/",
         "DatabricksRoot",
         ""
        ],
        [
         "/volume",
         "DbfsReserved",
         ""
        ]
       ],
       "datasetInfos": [],
       "dbfsResultPath": null,
       "isJsonSchema": true,
       "metadata": {},
       "overflow": false,
       "plotOptions": {
        "customPlotOptions": {},
        "displayType": "table",
        "pivotAggregation": null,
        "pivotColumns": null,
        "xColumns": null,
        "yColumns": null
       },
       "removedWidgets": [],
       "schema": [
        {
         "metadata": "{}",
         "name": "mountPoint",
         "type": "\"string\""
        },
        {
         "metadata": "{}",
         "name": "source",
         "type": "\"string\""
        },
        {
         "metadata": "{}",
         "name": "encryptionType",
         "type": "\"string\""
        }
       ],
       "type": "table"
      }
     },
     "output_type": "display_data"
    }
   ],
   "source": [
    "# Mostrando os pontos de montagem no cluster Databricks\n",
    "\n",
    "display(dbutils.fs.mounts())"
   ]
  },
  {
   "cell_type": "code",
   "execution_count": 0,
   "metadata": {
    "application/vnd.databricks.v1+cell": {
     "cellMetadata": {
      "byteLimit": 2048000,
      "rowLimit": 10000
     },
     "inputWidgets": {},
     "nuid": "2b2ba091-7790-425f-8d80-3f988c5fecd9",
     "showTitle": false,
     "tableResultSettingsMap": {},
     "title": ""
    }
   },
   "outputs": [
    {
     "output_type": "stream",
     "name": "stdout",
     "output_type": "stream",
     "text": [
      "/mnt/datalakeea44c854c651c494/lading-zone has been unmounted.\n/mnt/datalakeea44c854c651c494/bronze has been unmounted.\n/mnt/datalakeea44c854c651c494/silver has been unmounted.\n/mnt/datalakeea44c854c651c494/gold has been unmounted.\n"
     ]
    },
    {
     "output_type": "execute_result",
     "data": {
      "text/plain": [
       "True"
      ]
     },
     "execution_count": 49,
     "metadata": {},
     "output_type": "execute_result"
    }
   ],
   "source": [
    "# Desmontando os pontos de montagem se necessário\n",
    "\n",
    "#dbutils.fs.unmount('/mnt/datalakeea44c854c651c494/lading-zone')\n",
    "#dbutils.fs.unmount('/mnt/datalakeea44c854c651c494/bronze')\n",
    "#dbutils.fs.unmount('/mnt/datalakeea44c854c651c494/silver')\n",
    "#dbutils.fs.unmount('/mnt/datalakeea44c854c651c494/gold')"
   ]
  },
  {
   "cell_type": "code",
   "execution_count": 0,
   "metadata": {
    "application/vnd.databricks.v1+cell": {
     "cellMetadata": {
      "byteLimit": 2048000,
      "rowLimit": 10000
     },
     "inputWidgets": {},
     "nuid": "0f6f3bcb-743c-4765-afe9-6c299a130f87",
     "showTitle": false,
     "tableResultSettingsMap": {},
     "title": ""
    }
   },
   "outputs": [],
   "source": [
    "# Definindo uma função para montar um ADLS com um ponto de montagem com ADLS SAS\n",
    "\n",
    "storageAccountName = \"datalakeea44c854c651c494\"\n",
    "storageAccountAccessKey = \"\"\n",
    "sasToken = \"sv=2024-11-04&ss=bfqt&srt=sco&sp=rwdlacupyx&se=2025-06-20T02:32:31Z&st=2025-06-19T18:32:31Z&spr=https&sig=CGev8c8IkJuIFAGEeFukBHu%2B66q2MxFaeswMz0QNSVo%3D\"\n",
    "\n",
    "def mount_adls(blobContainerName):\n",
    "    try:\n",
    "      dbutils.fs.mount(\n",
    "        source = \"wasbs://{}@{}.blob.core.windows.net\".format(blobContainerName, storageAccountName),\n",
    "        mount_point = f\"/mnt/{storageAccountName}/{blobContainerName}\",\n",
    "        #extra_configs = {'fs.azure.account.key.' + storageAccountName + '.blob.core.windows.net': storageAccountAccessKey}\n",
    "        extra_configs = {'fs.azure.sas.' + blobContainerName + '.' + storageAccountName + '.blob.core.windows.net': sasToken}\n",
    "      )\n",
    "      print(f\"Montagem bem-sucedida: {blobContainerName}\")\n",
    "    except Exception as e:\n",
    "      print(f\"Falha na montagem de {blobContainerName}:\", e)"
   ]
  },
  {
   "cell_type": "code",
   "execution_count": 0,
   "metadata": {
    "application/vnd.databricks.v1+cell": {
     "cellMetadata": {
      "byteLimit": 2048000,
      "rowLimit": 10000
     },
     "inputWidgets": {},
     "nuid": "d0893860-3ba8-43df-bade-44d723a8d2e5",
     "showTitle": false,
     "tableResultSettingsMap": {},
     "title": ""
    }
   },
   "outputs": [
    {
     "output_type": "stream",
     "name": "stdout",
     "output_type": "stream",
     "text": [
      "Montagem bem-sucedida: lading-zone\nMontagem bem-sucedida: bronze\nMontagem bem-sucedida: silver\nMontagem bem-sucedida: gold\n"
     ]
    }
   ],
   "source": [
    "# Montando todos os containers\n",
    "\n",
    "mount_adls('lading-zone')\n",
    "mount_adls('bronze')\n",
    "mount_adls('silver')\n",
    "mount_adls('gold')"
   ]
  },
  {
   "cell_type": "code",
   "execution_count": 0,
   "metadata": {
    "application/vnd.databricks.v1+cell": {
     "cellMetadata": {
      "byteLimit": 2048000,
      "rowLimit": 10000
     },
     "inputWidgets": {},
     "nuid": "d9221a03-c1c3-4e1d-92ee-b43eba2912ae",
     "showTitle": false,
     "tableResultSettingsMap": {},
     "title": ""
    }
   },
   "outputs": [
    {
     "output_type": "display_data",
     "data": {
      "text/html": [
       "<style scoped>\n",
       "  .table-result-container {\n",
       "    max-height: 300px;\n",
       "    overflow: auto;\n",
       "  }\n",
       "  table, th, td {\n",
       "    border: 1px solid black;\n",
       "    border-collapse: collapse;\n",
       "  }\n",
       "  th, td {\n",
       "    padding: 5px;\n",
       "  }\n",
       "  th {\n",
       "    text-align: left;\n",
       "  }\n",
       "</style><div class='table-result-container'><table class='table-result'><thead style='background-color: white'><tr><th>mountPoint</th><th>source</th><th>encryptionType</th></tr></thead><tbody><tr><td>/databricks-datasets</td><td>databricks-datasets</td><td></td></tr><tr><td>/Volumes</td><td>UnityCatalogVolumes</td><td></td></tr><tr><td>/databricks/mlflow-tracking</td><td>databricks/mlflow-tracking</td><td></td></tr><tr><td>/databricks-results</td><td>databricks-results</td><td></td></tr><tr><td>/mnt/datalakeea44c854c651c494/gold</td><td>wasbs://gold@datalakeea44c854c651c494.blob.core.windows.net</td><td></td></tr><tr><td>/databricks/mlflow-registry</td><td>databricks/mlflow-registry</td><td></td></tr><tr><td>/mnt/datalakeea44c854c651c494/bronze</td><td>wasbs://bronze@datalakeea44c854c651c494.blob.core.windows.net</td><td></td></tr><tr><td>/mnt/datalakeea44c854c651c494/landing-zone</td><td>wasbs://landing-zone@datalakeea44c854c651c494.blob.core.windows.net</td><td></td></tr><tr><td>/Volume</td><td>DbfsReserved</td><td></td></tr><tr><td>/mnt/datalakeea44c854c651c494/silver</td><td>wasbs://silver@datalakeea44c854c651c494.blob.core.windows.net</td><td></td></tr><tr><td>/volumes</td><td>DbfsReserved</td><td></td></tr><tr><td>/mnt/datalakeea44c854c651c494/lading-zone</td><td>wasbs://lading-zone@datalakeea44c854c651c494.blob.core.windows.net</td><td></td></tr><tr><td>/</td><td>DatabricksRoot</td><td></td></tr><tr><td>/volume</td><td>DbfsReserved</td><td></td></tr></tbody></table></div>"
      ]
     },
     "metadata": {
      "application/vnd.databricks.v1+output": {
       "addedWidgets": {},
       "aggData": [],
       "aggError": "",
       "aggOverflow": false,
       "aggSchema": [],
       "aggSeriesLimitReached": false,
       "aggType": "",
       "arguments": {},
       "columnCustomDisplayInfos": {},
       "data": [
        [
         "/databricks-datasets",
         "databricks-datasets",
         ""
        ],
        [
         "/Volumes",
         "UnityCatalogVolumes",
         ""
        ],
        [
         "/databricks/mlflow-tracking",
         "databricks/mlflow-tracking",
         ""
        ],
        [
         "/databricks-results",
         "databricks-results",
         ""
        ],
        [
         "/mnt/datalakeea44c854c651c494/gold",
         "wasbs://gold@datalakeea44c854c651c494.blob.core.windows.net",
         ""
        ],
        [
         "/databricks/mlflow-registry",
         "databricks/mlflow-registry",
         ""
        ],
        [
         "/mnt/datalakeea44c854c651c494/bronze",
         "wasbs://bronze@datalakeea44c854c651c494.blob.core.windows.net",
         ""
        ],
        [
         "/mnt/datalakeea44c854c651c494/landing-zone",
         "wasbs://landing-zone@datalakeea44c854c651c494.blob.core.windows.net",
         ""
        ],
        [
         "/Volume",
         "DbfsReserved",
         ""
        ],
        [
         "/mnt/datalakeea44c854c651c494/silver",
         "wasbs://silver@datalakeea44c854c651c494.blob.core.windows.net",
         ""
        ],
        [
         "/volumes",
         "DbfsReserved",
         ""
        ],
        [
         "/mnt/datalakeea44c854c651c494/lading-zone",
         "wasbs://lading-zone@datalakeea44c854c651c494.blob.core.windows.net",
         ""
        ],
        [
         "/",
         "DatabricksRoot",
         ""
        ],
        [
         "/volume",
         "DbfsReserved",
         ""
        ]
       ],
       "datasetInfos": [],
       "dbfsResultPath": null,
       "isJsonSchema": true,
       "metadata": {},
       "overflow": false,
       "plotOptions": {
        "customPlotOptions": {},
        "displayType": "table",
        "pivotAggregation": null,
        "pivotColumns": null,
        "xColumns": null,
        "yColumns": null
       },
       "removedWidgets": [],
       "schema": [
        {
         "metadata": "{}",
         "name": "mountPoint",
         "type": "\"string\""
        },
        {
         "metadata": "{}",
         "name": "source",
         "type": "\"string\""
        },
        {
         "metadata": "{}",
         "name": "encryptionType",
         "type": "\"string\""
        }
       ],
       "type": "table"
      }
     },
     "output_type": "display_data"
    }
   ],
   "source": [
    "# Mostrando os pontos de montagem no cluster Databricks\n",
    "\n",
    "display(dbutils.fs.mounts())"
   ]
  },
  {
   "cell_type": "code",
   "execution_count": 0,
   "metadata": {
    "application/vnd.databricks.v1+cell": {
     "cellMetadata": {
      "byteLimit": 2048000,
      "rowLimit": 10000
     },
     "inputWidgets": {},
     "nuid": "989ad5cc-8825-4795-9f72-481ce7c3532d",
     "showTitle": false,
     "tableResultSettingsMap": {},
     "title": ""
    }
   },
   "outputs": [
    {
     "output_type": "display_data",
     "data": {
      "text/html": [
       "<style scoped>\n",
       "  .table-result-container {\n",
       "    max-height: 300px;\n",
       "    overflow: auto;\n",
       "  }\n",
       "  table, th, td {\n",
       "    border: 1px solid black;\n",
       "    border-collapse: collapse;\n",
       "  }\n",
       "  th, td {\n",
       "    padding: 5px;\n",
       "  }\n",
       "  th {\n",
       "    text-align: left;\n",
       "  }\n",
       "</style><div class='table-result-container'><table class='table-result'><thead style='background-color: white'><tr><th>path</th><th>name</th><th>size</th><th>modificationTime</th></tr></thead><tbody><tr><td>dbfs:/mnt/datalakeea44c854c651c494/bronze/circuits/</td><td>circuits/</td><td>0</td><td>0</td></tr><tr><td>dbfs:/mnt/datalakeea44c854c651c494/bronze/constructor_results/</td><td>constructor_results/</td><td>0</td><td>0</td></tr><tr><td>dbfs:/mnt/datalakeea44c854c651c494/bronze/constructor_standings/</td><td>constructor_standings/</td><td>0</td><td>0</td></tr><tr><td>dbfs:/mnt/datalakeea44c854c651c494/bronze/constructors/</td><td>constructors/</td><td>0</td><td>0</td></tr><tr><td>dbfs:/mnt/datalakeea44c854c651c494/bronze/driver_standings/</td><td>driver_standings/</td><td>0</td><td>0</td></tr><tr><td>dbfs:/mnt/datalakeea44c854c651c494/bronze/drivers/</td><td>drivers/</td><td>0</td><td>0</td></tr><tr><td>dbfs:/mnt/datalakeea44c854c651c494/bronze/lap_times/</td><td>lap_times/</td><td>0</td><td>0</td></tr><tr><td>dbfs:/mnt/datalakeea44c854c651c494/bronze/pit_stops/</td><td>pit_stops/</td><td>0</td><td>0</td></tr><tr><td>dbfs:/mnt/datalakeea44c854c651c494/bronze/qualifying/</td><td>qualifying/</td><td>0</td><td>0</td></tr><tr><td>dbfs:/mnt/datalakeea44c854c651c494/bronze/races/</td><td>races/</td><td>0</td><td>0</td></tr><tr><td>dbfs:/mnt/datalakeea44c854c651c494/bronze/results/</td><td>results/</td><td>0</td><td>0</td></tr><tr><td>dbfs:/mnt/datalakeea44c854c651c494/bronze/seasons/</td><td>seasons/</td><td>0</td><td>0</td></tr><tr><td>dbfs:/mnt/datalakeea44c854c651c494/bronze/sprint_results/</td><td>sprint_results/</td><td>0</td><td>0</td></tr><tr><td>dbfs:/mnt/datalakeea44c854c651c494/bronze/status/</td><td>status/</td><td>0</td><td>0</td></tr></tbody></table></div>"
      ]
     },
     "metadata": {
      "application/vnd.databricks.v1+output": {
       "addedWidgets": {},
       "aggData": [],
       "aggError": "",
       "aggOverflow": false,
       "aggSchema": [],
       "aggSeriesLimitReached": false,
       "aggType": "",
       "arguments": {},
       "columnCustomDisplayInfos": {},
       "data": [
        [
         "dbfs:/mnt/datalakeea44c854c651c494/bronze/circuits/",
         "circuits/",
         0,
         0
        ],
        [
         "dbfs:/mnt/datalakeea44c854c651c494/bronze/constructor_results/",
         "constructor_results/",
         0,
         0
        ],
        [
         "dbfs:/mnt/datalakeea44c854c651c494/bronze/constructor_standings/",
         "constructor_standings/",
         0,
         0
        ],
        [
         "dbfs:/mnt/datalakeea44c854c651c494/bronze/constructors/",
         "constructors/",
         0,
         0
        ],
        [
         "dbfs:/mnt/datalakeea44c854c651c494/bronze/driver_standings/",
         "driver_standings/",
         0,
         0
        ],
        [
         "dbfs:/mnt/datalakeea44c854c651c494/bronze/drivers/",
         "drivers/",
         0,
         0
        ],
        [
         "dbfs:/mnt/datalakeea44c854c651c494/bronze/lap_times/",
         "lap_times/",
         0,
         0
        ],
        [
         "dbfs:/mnt/datalakeea44c854c651c494/bronze/pit_stops/",
         "pit_stops/",
         0,
         0
        ],
        [
         "dbfs:/mnt/datalakeea44c854c651c494/bronze/qualifying/",
         "qualifying/",
         0,
         0
        ],
        [
         "dbfs:/mnt/datalakeea44c854c651c494/bronze/races/",
         "races/",
         0,
         0
        ],
        [
         "dbfs:/mnt/datalakeea44c854c651c494/bronze/results/",
         "results/",
         0,
         0
        ],
        [
         "dbfs:/mnt/datalakeea44c854c651c494/bronze/seasons/",
         "seasons/",
         0,
         0
        ],
        [
         "dbfs:/mnt/datalakeea44c854c651c494/bronze/sprint_results/",
         "sprint_results/",
         0,
         0
        ],
        [
         "dbfs:/mnt/datalakeea44c854c651c494/bronze/status/",
         "status/",
         0,
         0
        ]
       ],
       "datasetInfos": [],
       "dbfsResultPath": null,
       "isJsonSchema": true,
       "metadata": {},
       "overflow": false,
       "plotOptions": {
        "customPlotOptions": {},
        "displayType": "table",
        "pivotAggregation": null,
        "pivotColumns": null,
        "xColumns": null,
        "yColumns": null
       },
       "removedWidgets": [],
       "schema": [
        {
         "metadata": "{}",
         "name": "path",
         "type": "\"string\""
        },
        {
         "metadata": "{}",
         "name": "name",
         "type": "\"string\""
        },
        {
         "metadata": "{}",
         "name": "size",
         "type": "\"long\""
        },
        {
         "metadata": "{}",
         "name": "modificationTime",
         "type": "\"long\""
        }
       ],
       "type": "table"
      }
     },
     "output_type": "display_data"
    }
   ],
   "source": [
    "# Mostrando todos os arquivos da camada bronze\n",
    "\n",
    "display(dbutils.fs.ls(f\"/mnt/{storageAccountName}/bronze\"))"
   ]
  },
  {
   "cell_type": "code",
   "execution_count": 0,
   "metadata": {
    "application/vnd.databricks.v1+cell": {
     "cellMetadata": {
      "byteLimit": 2048000,
      "rowLimit": 10000
     },
     "inputWidgets": {},
     "nuid": "96638aad-65ea-4b57-a8f8-75f218e90b4d",
     "showTitle": false,
     "tableResultSettingsMap": {},
     "title": ""
    }
   },
   "outputs": [],
   "source": [
    "# Gerando um dataframe dos delta lake no container bronze do Azure Data Lake Storage\n",
    "\n",
    "df_circuits   = spark.read.format('delta').load(f\"/mnt/{storageAccountName}/bronze/circuits\")\n",
    "df_constructor_results     = spark.read.format('delta').load(f\"/mnt/{storageAccountName}/bronze/constructor_results\")\n",
    "df_constructor_standings   = spark.read.format('delta').load(f\"/mnt/{storageAccountName}/bronze/constructor_standings\")\n",
    "df_constructors  = spark.read.format('delta').load(f\"/mnt/{storageAccountName}/bronze/constructors\")\n",
    "df_driver_standings    = spark.read.format('delta').load(f\"/mnt/{storageAccountName}/bronze/driver_standings\")\n",
    "df_drivers     = spark.read.format('delta').load(f\"/mnt/{storageAccountName}/bronze/drivers\")\n",
    "df_lap_times     = spark.read.format('delta').load(f\"/mnt/{storageAccountName}/bronze/lap_times\")\n",
    "df_pit_stops    = spark.read.format('delta').load(f\"/mnt/{storageAccountName}/bronze/pit_stops\")\n",
    "df_qualifying = spark.read.format('delta').load(f\"/mnt/{storageAccountName}/bronze/qualifying\")\n",
    "df_races    = spark.read.format('delta').load(f\"/mnt/{storageAccountName}/bronze/races\")\n",
    "df_results  = spark.read.format('delta').load(f\"/mnt/{storageAccountName}/bronze/results\")\n",
    "df_seasons  = spark.read.format('delta').load(f\"/mnt/{storageAccountName}/bronze/seasons\")\n",
    "df_sprint_results  = spark.read.format('delta').load(f\"/mnt/{storageAccountName}/bronze/sprint_results\")\n",
    "df_status  = spark.read.format('delta').load(f\"/mnt/{storageAccountName}/bronze/status\")"
   ]
  },
  {
   "cell_type": "code",
   "execution_count": 0,
   "metadata": {
    "application/vnd.databricks.v1+cell": {
     "cellMetadata": {
      "byteLimit": 2048000,
      "rowLimit": 10000
     },
     "inputWidgets": {},
     "nuid": "c2b52a90-8654-4ca3-8297-4e89ef5dde6a",
     "showTitle": false,
     "tableResultSettingsMap": {},
     "title": ""
    }
   },
   "outputs": [],
   "source": [
    "# Adicionando metadados de data e hora de processamento e nome do arquivo de origem\n",
    "\n",
    "from pyspark.sql.functions import current_timestamp, lit\n",
    "\n",
    "df_circuits = df_circuits.withColumn(\"data_hora_silver\", current_timestamp()).withColumn(\"nome_arquivo\", lit(\"circuits\"))\n",
    "df_constructor_results   = df_constructor_results.withColumn(\"data_hora_silver\", current_timestamp()).withColumn(\"nome_arquivo\", lit(\"constructor_results\"))\n",
    "df_constructor_standings = df_constructor_standings.withColumn(\"data_hora_silver\", current_timestamp()).withColumn(\"nome_arquivo\", lit(\"constructor_standings\"))\n",
    "df_constructors  = df_constructors.withColumn(\"data_hora_silver\", current_timestamp()).withColumn(\"nome_arquivo\", lit(\"constructors\"))\n",
    "df_driver_standings = df_driver_standings.withColumn(\"data_hora_silver\", current_timestamp()).withColumn(\"nome_arquivo\", lit(\"driver_standings\"))\n",
    "df_drivers       = df_drivers.withColumn(\"data_hora_silver\", current_timestamp()).withColumn(\"nome_arquivo\", lit(\"drivers\"))\n",
    "df_lap_times     = df_lap_times.withColumn(\"data_hora_silver\", current_timestamp()).withColumn(\"nome_arquivo\", lit(\"lap_times\"))\n",
    "df_pit_stops     = df_pit_stops.withColumn(\"data_hora_silver\", current_timestamp()).withColumn(\"nome_arquivo\", lit(\"pit_stops\"))\n",
    "df_qualifying    = df_qualifying.withColumn(\"data_hora_silver\", current_timestamp()).withColumn(\"nome_arquivo\", lit(\"qualifying\"))\n",
    "df_races         = df_races.withColumn(\"data_hora_silver\", current_timestamp()).withColumn(\"nome_arquivo\", lit(\"races\"))\n",
    "df_results       = df_results.withColumn(\"data_hora_silver\", current_timestamp()).withColumn(\"nome_arquivo\", lit(\"results\"))\n",
    "df_seasons       = df_seasons.withColumn(\"data_hora_silver\", current_timestamp()).withColumn(\"nome_arquivo\", lit(\"seasons\"))\n",
    "df_sprint_results = df_sprint_results.withColumn(\"data_hora_silver\", current_timestamp()).withColumn(\"nome_arquivo\", lit(\"sprint_results\"))\n",
    "df_status        = df_status.withColumn(\"data_hora_silver\", current_timestamp()).withColumn(\"nome_arquivo\", lit(\"status\"))"
   ]
  },
  {
   "cell_type": "code",
   "execution_count": 0,
   "metadata": {
    "application/vnd.databricks.v1+cell": {
     "cellMetadata": {
      "byteLimit": 2048000,
      "rowLimit": 10000
     },
     "inputWidgets": {},
     "nuid": "e84244ed-b396-49a3-bf24-c1cc3273b2be",
     "showTitle": false,
     "tableResultSettingsMap": {},
     "title": ""
    }
   },
   "outputs": [
    {
     "output_type": "stream",
     "name": "stdout",
     "output_type": "stream",
     "text": [
      "['IDENTIFIER_CIRCUIT', 'circuitRef', 'name', 'location', 'country', 'lat', 'lng', 'alt', 'url', 'data_hora_bronze', 'nome_arquivo', 'data_hora_silver']\n['constructorResultsId', 'raceId', 'constructorId', 'points', 'status', 'data_hora_bronze', 'nome_arquivo', 'data_hora_silver']\n['constructorStandingsId', 'raceId', 'constructorId', 'points', 'position', 'positionText', 'wins', 'data_hora_bronze', 'nome_arquivo', 'data_hora_silver']\n['constructorId', 'constructorRef', 'name', 'nationality', 'url', 'data_hora_bronze', 'nome_arquivo', 'data_hora_silver']\n['driverStandingsId', 'raceId', 'driverId', 'points', 'position', 'positionText', 'wins', 'data_hora_bronze', 'nome_arquivo', 'data_hora_silver']\n['driverId', 'driverRef', 'number', 'code', 'forename', 'surname', 'dob', 'nationality', 'url', 'data_hora_bronze', 'nome_arquivo', 'data_hora_silver']\n['raceId', 'driverId', 'lap', 'position', 'time', 'milliseconds', 'data_hora_bronze', 'nome_arquivo', 'data_hora_silver']\n['raceId', 'driverId', 'stop', 'lap', 'time', 'duration', 'milliseconds', 'data_hora_bronze', 'nome_arquivo', 'data_hora_silver']\n['qualifyId', 'raceId', 'driverId', 'constructorId', 'number', 'position', 'q1', 'q2', 'q3', 'data_hora_bronze', 'nome_arquivo', 'data_hora_silver']\n['raceId', 'year', 'round', 'circuitId', 'name', 'date', 'time', 'url', 'fp1_date', 'fp1_time', 'fp2_date', 'fp2_time', 'fp3_date', 'fp3_time', 'quali_date', 'quali_time', 'sprint_date', 'sprint_time', 'data_hora_bronze', 'nome_arquivo', 'data_hora_silver']\n['resultId', 'raceId', 'driverId', 'constructorId', 'number', 'grid', 'position', 'positionText', 'positionOrder', 'points', 'laps', 'time', 'milliseconds', 'fastestLap', 'rank', 'fastestLapTime', 'fastestLapSpeed', 'statusId', 'data_hora_bronze', 'nome_arquivo', 'data_hora_silver']\n['year', 'url', 'data_hora_bronze', 'nome_arquivo', 'data_hora_silver']\n['resultId', 'raceId', 'driverId', 'constructorId', 'number', 'grid', 'position', 'positionText', 'positionOrder', 'points', 'laps', 'time', 'milliseconds', 'fastestLap', 'fastestLapTime', 'statusId', 'data_hora_bronze', 'nome_arquivo', 'data_hora_silver']\n['statusId', 'status', 'data_hora_bronze', 'nome_arquivo', 'data_hora_silver']\n"
     ]
    }
   ],
   "source": [
    "# Listando os nomes das colunas dos dataframes\n",
    "\n",
    "print(df_circuits.columns)\n",
    "print(df_constructor_results.columns)\n",
    "print(df_constructor_standings.columns)\n",
    "print(df_constructors.columns)\n",
    "print(df_driver_standings.columns)\n",
    "print(df_drivers.columns)\n",
    "print(df_lap_times.columns)\n",
    "print(df_pit_stops.columns)\n",
    "print(df_qualifying.columns)\n",
    "print(df_races.columns)\n",
    "print(df_results.columns)\n",
    "print(df_seasons.columns)\n",
    "print(df_sprint_results.columns)\n",
    "print(df_status.columns)"
   ]
  },
  {
   "cell_type": "code",
   "execution_count": 0,
   "metadata": {
    "application/vnd.databricks.v1+cell": {
     "cellMetadata": {
      "byteLimit": 2048000,
      "rowLimit": 10000
     },
     "inputWidgets": {},
     "nuid": "1f8a8596-de4d-42be-8ddd-0a0893f9dc46",
     "showTitle": false,
     "tableResultSettingsMap": {},
     "title": ""
    }
   },
   "outputs": [],
   "source": [
    "# Mudando o nome das colunas para maiúscula e ajustanto os nomes das colunas de acordo com o dicionario de dados\n",
    "\n",
    "#['circuitId', 'circuitRef', 'name', 'location', 'country', 'lat', 'lng', 'alt', 'url', 'data_hora_bronze', 'nome_arquivo', 'data_hora_silver'] \n",
    "df_circuits = ( df_circuits \n",
    "               .withColumnRenamed(\"circuitId\" , \"IDENTIFIER_CIRCUIT\")\n",
    "               .withColumnRenamed(\"circuitRef\" , \"REFERENCE_CIRCUIT\")\n",
    "               .withColumnRenamed(\"name\" , \"NAME\")\n",
    "               .withColumnRenamed(\"location\" , \"LOCATION\")\n",
    "               .withColumnRenamed(\"country\" , \"COUNTRY\" )\n",
    "               .withColumnRenamed(\"lat\" , \"LATITUDE\" )\n",
    "               .withColumnRenamed(\"lng\" , \"LONGITUDE\" )\n",
    "               .withColumnRenamed(\"alt\" , \"ALTITUDE\" )\n",
    "               .withColumnRenamed(\"url\" , \"URL\" )\n",
    "               .withColumnRenamed(\"data_hora_bronze\", \"DATA_HORA_BRONZE\") \n",
    "               .withColumnRenamed(\"nome_arquivo\" , \"NOME_ARQUIVO\") \n",
    "               .withColumnRenamed(\"data_hora_silver\" , \"DATA_HORA_SILVER\") \n",
    "               )\n",
    "#['constructorResultsId', 'raceId', 'constructorId', 'points', 'status', 'data_hora_bronze', 'nome_arquivo', 'data_hora_silver'] \n",
    "df_constructor_results = ( df_constructor_results \n",
    "                          .withColumnRenamed(\"constructorResultsId\" , \"IDENTIFIER_CONSTRUCTOR_RESULTS\")\n",
    "                          .withColumnRenamed(\"raceId\" , \"IDENTIFIER_RACE\")\n",
    "                          .withColumnRenamed(\"constructorId\" , \"IDENTIFIER_CONSTRUCTOR\")\n",
    "                          .withColumnRenamed(\"points\" , \"POINTS\")\n",
    "                          .withColumnRenamed(\"status\" , \"STATUS\")\n",
    "                          .withColumnRenamed(\"data_hora_bronze\", \"DATA_HORA_BRONZE\") \n",
    "                          .withColumnRenamed(\"nome_arquivo\" , \"NOME_ARQUIVO\") \n",
    "                          .withColumnRenamed(\"data_hora_silver\" , \"DATA_HORA_SILVER\") \n",
    "                          )\n",
    "#['constructorStandingsId', 'raceId', 'constructorId', 'points', 'position', 'positionText', 'wins', 'data_hora_bronze', 'nome_arquivo', 'data_hora_silver']\n",
    "df_constructor_standings = ( df_constructor_standings \n",
    "                            .withColumnRenamed(\"constructorStandingsId\" , \"IDENTIFIER_CONSTRUCTOR_STANDINGS\")\n",
    "                            .withColumnRenamed(\"raceId\" , \"IDENTIFIER_RACE\")\n",
    "                            .withColumnRenamed(\"constructorId\" , \"IDENTIFIER_CONSTRUCTOR\")\n",
    "                            .withColumnRenamed(\"position\" , \"POSITION\")\n",
    "                            .withColumnRenamed(\"positionText\" , \"POSITION_TEXT\")\n",
    "                            .withColumnRenamed(\"wins\" , \"WINS\")\n",
    "                            .withColumnRenamed(\"data_hora_bronze\", \"DATA_HORA_BRONZE\") \n",
    "                            .withColumnRenamed(\"nome_arquivo\" , \"NOME_ARQUIVO\") \n",
    "                            .withColumnRenamed(\"data_hora_silver\" , \"DATA_HORA_SILVER\") \n",
    "                            )\n",
    "#['constructorId', 'constructorRef', 'name', 'nationality', 'url', 'data_hora_bronze', 'nome_arquivo', 'data_hora_silver'] \n",
    "df_constructors = ( df_constructors     \n",
    "                   .withColumnRenamed(\"constructorId\" , \"IDENTIFIER_CONSTRUCTOR\")\n",
    "                   .withColumnRenamed(\"constructorRef\" , \"REFERENCE_CONSTRUCTOR\")\n",
    "                   .withColumnRenamed(\"name\" , \"NAME\")\n",
    "                   .withColumnRenamed(\"nationality\" , \"NATIONALITY\")\n",
    "                   .withColumnRenamed(\"url\" , \"URL\")\n",
    "                   .withColumnRenamed(\"data_hora_bronze\", \"DATA_HORA_BRONZE\") \n",
    "                   .withColumnRenamed(\"nome_arquivo\" , \"NOME_ARQUIVO\") \n",
    "                   .withColumnRenamed(\"data_hora_silver\" , \"DATA_HORA_SILVER\") \n",
    "                   )\n",
    "#['driverStandingsId', 'raceId', 'driverId', 'points', 'position', 'positionText', 'wins', 'data_hora_bronze', 'nome_arquivo', 'data_hora_silver'] \n",
    "df_driver_standings = ( df_driver_standings \n",
    "                       .withColumnRenamed(\"driverStandingsId\" , \"IDENTIFIER_DRIVER_STANDINGS\")\n",
    "                       .withColumnRenamed(\"raceId\" , \"IDENTIFIER_RACE\")\n",
    "                       .withColumnRenamed(\"driverId\" , \"IDENTIFIER_DRIVER\")\n",
    "                       .withColumnRenamed(\"points\" , \"POINTS\")\n",
    "                       .withColumnRenamed(\"position\" , \"POSITION\")\n",
    "                       .withColumnRenamed(\"positionText\" , \"POSITION_TEXT\")\n",
    "                       .withColumnRenamed(\"wins\" , \"WINS\")\n",
    "                       .withColumnRenamed(\"data_hora_bronze\", \"DATA_HORA_BRONZE\") \n",
    "                       .withColumnRenamed(\"nome_arquivo\" , \"NOME_ARQUIVO\") \n",
    "                       .withColumnRenamed(\"data_hora_silver\" , \"DATA_HORA_SILVER\") \n",
    "                       )\n",
    "#['driverId', 'driverRef', 'number', 'code', 'forename', 'surname', 'dob', 'nationality', 'url', 'data_hora_bronze', 'nome_arquivo', 'data_hora_silver'] \n",
    "df_drivers = ( df_drivers \n",
    "              .withColumnRenamed(\"driverId\" , \"IDENTIFIER_DRIVER\")\n",
    "              .withColumnRenamed(\"driverRef\" , \"REFERENCE_DRIVER\")\n",
    "              .withColumnRenamed(\"number\" , \"NUMBER\")\n",
    "              .withColumnRenamed(\"code\" , \"CODE\")\n",
    "              .withColumnRenamed(\"forename\" , \"FORENAME\")\n",
    "              .withColumnRenamed(\"surname\" , \"SURNAME\")\n",
    "              .withColumnRenamed(\"dob\" , \"DOB\")\n",
    "              .withColumnRenamed(\"nationality\" , \"NATIONALITY\")\n",
    "              .withColumnRenamed(\"url\" , \"URL\")\n",
    "              .withColumnRenamed(\"data_hora_bronze\", \"DATA_HORA_BRONZE\") \n",
    "              .withColumnRenamed(\"nome_arquivo\" , \"NOME_ARQUIVO\") \n",
    "              .withColumnRenamed(\"data_hora_silver\" , \"DATA_HORA_SILVER\") \n",
    "              )\n",
    "#['raceId', 'driverId', 'lap', 'position', 'time', 'milliseconds', 'data_hora_bronze', 'nome_arquivo', 'data_hora_silver']            \n",
    "df_lap_times = ( df_lap_times \n",
    "                .withColumnRenamed(\"RACEID\" , \"IDENTIFIER_RACE\")\n",
    "                .withColumnRenamed(\"driverId\" , \"IDENTIFIER_DRIVER\")\n",
    "                .withColumnRenamed(\"lap\" , \"LAP\")\n",
    "                .withColumnRenamed(\"position\" , \"POSITION\")\n",
    "                .withColumnRenamed(\"time\" , \"TIME\")\n",
    "                .withColumnRenamed(\"milliseconds\" , \"MILLISECONDS\")\n",
    "                .withColumnRenamed(\"data_hora_bronze\", \"DATA_HORA_BRONZE\") \n",
    "                .withColumnRenamed(\"nome_arquivo\" , \"NOME_ARQUIVO\") \n",
    "                .withColumnRenamed(\"data_hora_silver\" , \"DATA_HORA_SILVER\") \n",
    "                )\n",
    "#['raceId', 'driverId', 'stop', 'lap', 'time', 'duration', 'milliseconds', 'data_hora_bronze', 'nome_arquivo', 'data_hora_silver']             \n",
    "df_pit_stops = ( df_pit_stops\n",
    "                .withColumnRenamed(\"raceId\" , \"IDENTIFIER_RACE\")\n",
    "                .withColumnRenamed(\"driverId\" , \"IDENTIFIER_DRIVER\")\n",
    "                .withColumnRenamed(\"stop\" , \"STOP\")\n",
    "                .withColumnRenamed(\"lap\" , \"LAP\")\n",
    "                .withColumnRenamed(\"time\" , \"TIME\")\n",
    "                .withColumnRenamed(\"duration\" , \"DURATION\")\n",
    "                .withColumnRenamed(\"milliseconds\" , \"MILLISECONDS\")\n",
    "                .withColumnRenamed(\"data_hora_bronze\", \"DATA_HORA_BRONZE\") \n",
    "                .withColumnRenamed(\"nome_arquivo\" , \"NOME_ARQUIVO\") \n",
    "                .withColumnRenamed(\"data_hora_silver\" , \"DATA_HORA_SILVER\") \n",
    "                )\n",
    "#['qualifyId', 'raceId', 'driverId', 'constructorId', 'number', 'position', 'q1', 'q2', 'q3', 'data_hora_bronze', 'nome_arquivo', 'data_hora_silver'] \n",
    "df_qualifying = ( df_qualifying \n",
    "                 .withColumnRenamed(\"qualifyId\" , \"IDENTIFIER_QUALIFYING\")\n",
    "                 .withColumnRenamed(\"raceId\" , \"IDENTIFIER_RACE\")\n",
    "                 .withColumnRenamed(\"driverId\" , \"IDENTIFIER_DRIVER\")\n",
    "                 .withColumnRenamed(\"constructorId\" , \"IDENTIFIER_CONSTRUCTOR\")\n",
    "                 .withColumnRenamed(\"number\" , \"NUMBER\")\n",
    "                 .withColumnRenamed(\"position\" , \"POSITION\")\n",
    "                 .withColumnRenamed(\"q1\" , \"Q1\")\n",
    "                 .withColumnRenamed(\"q2\" , \"Q2\")\n",
    "                 .withColumnRenamed(\"q3\" , \"Q3\")\n",
    "                 .withColumnRenamed(\"data_hora_bronze\", \"DATA_HORA_BRONZE\") \n",
    "                 .withColumnRenamed(\"nome_arquivo\" , \"NOME_ARQUIVO\") \n",
    "                 .withColumnRenamed(\"data_hora_silver\" , \"DATA_HORA_SILVER\") \n",
    "                 )\n",
    "#['raceId', 'year', 'round', 'circuitId', 'name', 'date', 'time', 'url', 'fp1_date', 'fp1_time', 'fp2_date', 'fp2_time', 'fp3_date', 'fp3_time', 'quali_date', 'quali_time', 'sprint_date', 'sprint_time', 'data_hora_bronze', 'nome_arquivo', 'data_hora_silver'] \n",
    "df_races = ( df_races \n",
    "            .withColumnRenamed(\"RACEID\" , \"IDENTIFIER_RACE\")\n",
    "            .withColumnRenamed(\"year\" , \"YEAR\")\n",
    "            .withColumnRenamed(\"round\" , \"ROUND\")\n",
    "            .withColumnRenamed(\"circuitId\" , \"IDENTIFIER_CIRCUIT\")\n",
    "            .withColumnRenamed(\"name\" , \"NAME\")\n",
    "            .withColumnRenamed(\"date\" , \"DATE\")\n",
    "            .withColumnRenamed(\"time\" , \"TIME\")\n",
    "            .withColumnRenamed(\"url\" , \"URL\")\n",
    "            .withColumnRenamed(\"fp1_date\" , \"FP1_DATE\")\n",
    "            .withColumnRenamed(\"fp1_time\" , \"FP1_TIME\")\n",
    "            .withColumnRenamed(\"fp2_date\" , \"FP2_DATE\")\n",
    "            .withColumnRenamed(\"fp2_time\" , \"FP2_TIME\")\n",
    "            .withColumnRenamed(\"fp3_date\" , \"FP3_DATE\")\n",
    "            .withColumnRenamed(\"fp3_time\" , \"FP3_TIME\")\n",
    "            .withColumnRenamed(\"quali_date\" , \"QUALI_DATE\")\n",
    "            .withColumnRenamed(\"quali_time\" , \"QUALI_TIME\")\n",
    "            .withColumnRenamed(\"sprint_date\" , \"SPRINT_DATE\")\n",
    "            .withColumnRenamed(\"sprint_time\" , \"SPRINT_TIME\")\n",
    "            .withColumnRenamed(\"data_hora_bronze\", \"DATA_HORA_BRONZE\") \n",
    "            .withColumnRenamed(\"nome_arquivo\" , \"NOME_ARQUIVO\") \n",
    "            .withColumnRenamed(\"data_hora_silver\" , \"DATA_HORA_SILVER\") \n",
    "            )\n",
    "#['resultId', 'raceId', 'driverId', 'constructorId', 'number', 'grid', 'position', 'positionText', 'positionOrder', 'points', 'laps', 'time', 'milliseconds', 'fastestLap', 'rank', 'fastestLapTime', 'fastestLapSpeed', 'statusId', 'data_hora_bronze', 'nome_arquivo', 'data_hora_silver'] \n",
    "df_results = ( df_results \n",
    "              .withColumnRenamed(\"resultId\" , \"IDENTIFIER_RESULT\")\n",
    "              .withColumnRenamed(\"raceId\" , \"IDENTIFIER_RACE\")\n",
    "              .withColumnRenamed(\"driverId\" , \"IDENTIFIER_DRIVER\")\n",
    "              .withColumnRenamed(\"constructorId\" , \"IDENTIFIER_CONSTRUCTOR\")\n",
    "              .withColumnRenamed(\"number\" , \"NUMBER\")\n",
    "              .withColumnRenamed(\"grid\" , \"GRID\")\n",
    "              .withColumnRenamed(\"position\" , \"POSITION\")\n",
    "              .withColumnRenamed(\"positionText\" , \"POSITION_TEXT\")\n",
    "              .withColumnRenamed(\"positionOrder\" , \"POSITION_ORDER\")\n",
    "              .withColumnRenamed(\"points\" , \"POINTS\")\n",
    "              .withColumnRenamed(\"laps\" , \"LAPS\")\n",
    "              .withColumnRenamed(\"time\" , \"TIME\")\n",
    "              .withColumnRenamed(\"milliseconds\" , \"MILLISECONDS\")\n",
    "              .withColumnRenamed(\"fastestLap\" , \"FASTESTLAP\")\n",
    "              .withColumnRenamed(\"rank\" , \"RANK\")\n",
    "              .withColumnRenamed(\"fastestLapTime\" , \"FASTESTLAPTIME\")\n",
    "              .withColumnRenamed(\"fastestLapSpeed\" , \"FASTESTLAPSPEED\")\n",
    "              .withColumnRenamed(\"statusId\" , \"IDENTIFIER_STATUS\")\n",
    "              .withColumnRenamed(\"data_hora_bronze\", \"DATA_HORA_BRONZE\") \n",
    "              .withColumnRenamed(\"nome_arquivo\" , \"NOME_ARQUIVO\") \n",
    "              .withColumnRenamed(\"data_hora_silver\" , \"DATA_HORA_SILVER\") \n",
    "              )\n",
    "#['year', 'url', 'data_hora_bronze', 'nome_arquivo', 'data_hora_silver']               \n",
    "df_seasons = (df_seasons \n",
    "              .withColumnRenamed(\"year\" , \"YEAR\")\n",
    "              .withColumnRenamed(\"url\" , \"URL\")\n",
    "              .withColumnRenamed(\"data_hora_bronze\", \"DATA_HORA_BRONZE\") \n",
    "              .withColumnRenamed(\"nome_arquivo\" , \"NOME_ARQUIVO\") \n",
    "              .withColumnRenamed(\"data_hora_silver\" , \"DATA_HORA_SILVER\")\n",
    "              )\n",
    "#['resultId', 'raceId', 'driverId', 'constructorId', 'number', 'grid', 'position', 'positionText', 'positionOrder', 'points', 'laps', 'time', 'milliseconds', 'fastestLap', 'fastestLapTime', 'statusId', 'data_hora_bronze', 'nome_arquivo', 'data_hora_silver'] \n",
    "df_sprint_results = ( df_sprint_results\n",
    "                     .withColumnRenamed(\"resultId\" , \"IDENTIFIER_RESULT\")\n",
    "                     .withColumnRenamed(\"raceId\" , \"IDENTIFIER_RACE\")\n",
    "                     .withColumnRenamed(\"driverId\" , \"IDENTIFIER_DRIVER\")\n",
    "                     .withColumnRenamed(\"constructorId\" , \"IDENTIFIER_CONSTRUCTOR\")\n",
    "                     .withColumnRenamed(\"number\" , \"NUMBER\")\n",
    "                     .withColumnRenamed(\"grid\" , \"GRID\")\n",
    "                     .withColumnRenamed(\"position\" , \"POSITION\")\n",
    "                     .withColumnRenamed(\"positionText\" , \"POSITION_TEXT\")\n",
    "                     .withColumnRenamed(\"positionOrder\" , \"POSITION_ORDER\")\n",
    "                     .withColumnRenamed(\"points\" , \"POINTS\")\n",
    "                     .withColumnRenamed(\"laps\" , \"LAPS\")\n",
    "                     .withColumnRenamed(\"time\" , \"TIME\")\n",
    "                     .withColumnRenamed(\"milliseconds\" , \"MILLISECONDS\")\n",
    "                     .withColumnRenamed(\"fastestLap\" , \"FASTESTLAP\")\n",
    "                     .withColumnRenamed(\"fastestLapTime\" , \"FASTESTLAPTIME\")\n",
    "                     .withColumnRenamed(\"statusId\" , \"IDENTIFIER_STATUS\")\n",
    "                     .withColumnRenamed(\"data_hora_bronze\", \"DATA_HORA_BRONZE\") \n",
    "                     .withColumnRenamed(\"nome_arquivo\" , \"NOME_ARQUIVO\") \n",
    "                     .withColumnRenamed(\"data_hora_silver\" , \"DATA_HORA_SILVER\")\n",
    "                     )\n",
    "#['statusId', 'status', 'data_hora_bronze', 'nome_arquivo', 'data_hora_silver']\n",
    "df_status = ( df_status\n",
    "            .withColumnRenamed(\"statusId\" , \"IDENTIFIER_STATUS\")\n",
    "            .withColumnRenamed(\"status\" , \"STATUS\")\n",
    "            .withColumnRenamed(\"data_hora_bronze\", \"DATA_HORA_BRONZE\") \n",
    "            .withColumnRenamed(\"nome_arquivo\" , \"NOME_ARQUIVO\") \n",
    "            .withColumnRenamed(\"data_hora_silver\" , \"DATA_HORA_SILVER\") \n",
    "            )"
   ]
  },
  {
   "cell_type": "code",
   "execution_count": 0,
   "metadata": {
    "application/vnd.databricks.v1+cell": {
     "cellMetadata": {
      "byteLimit": 2048000,
      "rowLimit": 10000
     },
     "inputWidgets": {},
     "nuid": "3c704af4-0926-41bd-b20d-864421d32df2",
     "showTitle": false,
     "tableResultSettingsMap": {},
     "title": ""
    }
   },
   "outputs": [
    {
     "output_type": "stream",
     "name": "stdout",
     "output_type": "stream",
     "text": [
      "['IDENTIFIER_CIRCUIT', 'REFERENCE_CIRCUIT', 'NAME', 'LOCATION', 'COUNTRY', 'LATITUDE', 'LONGITUDE', 'ALTITUDE', 'URL', 'DATA_HORA_BRONZE', 'NOME_ARQUIVO', 'DATA_HORA_SILVER']\n['IDENTIFIER_CONSTRUCTOR_RESULTS', 'IDENTIFIER_RACE', 'IDENTIFIER_CONSTRUCTOR', 'POINTS', 'STATUS', 'DATA_HORA_BRONZE', 'NOME_ARQUIVO', 'DATA_HORA_SILVER']\n['IDENTIFIER_CONSTRUCTOR_STANDINGS', 'IDENTIFIER_RACE', 'IDENTIFIER_CONSTRUCTOR', 'points', 'POSITION', 'POSITION_TEXT', 'WINS', 'DATA_HORA_BRONZE', 'NOME_ARQUIVO', 'DATA_HORA_SILVER']\n['IDENTIFIER_CONSTRUCTOR', 'REFERENCE_CONSTRUCTOR', 'NAME', 'NATIONALITY', 'URL', 'DATA_HORA_BRONZE', 'NOME_ARQUIVO', 'DATA_HORA_SILVER']\n['IDENTIFIER_DRIVER_STANDINGS', 'IDENTIFIER_RACE', 'IDENTIFIER_DRIVER', 'POINTS', 'POSITION', 'POSITION_TEXT', 'WINS', 'DATA_HORA_BRONZE', 'NOME_ARQUIVO', 'DATA_HORA_SILVER']\n['IDENTIFIER_DRIVER', 'REFERENCE_DRIVER', 'NUMBER', 'CODE', 'FORENAME', 'SURNAME', 'DOB', 'NATIONALITY', 'URL', 'DATA_HORA_BRONZE', 'NOME_ARQUIVO', 'DATA_HORA_SILVER']\n['IDENTIFIER_RACE', 'IDENTIFIER_DRIVER', 'LAP', 'POSITION', 'TIME', 'MILLISECONDS', 'DATA_HORA_BRONZE', 'NOME_ARQUIVO', 'DATA_HORA_SILVER']\n['IDENTIFIER_RACE', 'IDENTIFIER_DRIVER', 'STOP', 'LAP', 'TIME', 'DURATION', 'MILLISECONDS', 'DATA_HORA_BRONZE', 'NOME_ARQUIVO', 'DATA_HORA_SILVER']\n['IDENTIFIER_QUALIFYING', 'IDENTIFIER_RACE', 'IDENTIFIER_DRIVER', 'IDENTIFIER_CONSTRUCTOR', 'NUMBER', 'POSITION', 'Q1', 'Q2', 'Q3', 'DATA_HORA_BRONZE', 'NOME_ARQUIVO', 'DATA_HORA_SILVER']\n['IDENTIFIER_RACE', 'YEAR', 'ROUND', 'IDENTIFIER_CIRCUIT', 'NAME', 'DATE', 'TIME', 'URL', 'FP1_DATE', 'FP1_TIME', 'FP2_DATE', 'FP2_TIME', 'FP3_DATE', 'FP3_TIME', 'QUALI_DATE', 'QUALI_TIME', 'SPRINT_DATE', 'SPRINT_TIME', 'DATA_HORA_BRONZE', 'NOME_ARQUIVO', 'DATA_HORA_SILVER']\n['IDENTIFIER_RESULT', 'IDENTIFIER_RACE', 'IDENTIFIER_DRIVER', 'IDENTIFIER_CONSTRUCTOR', 'NUMBER', 'GRID', 'POSITION', 'POSITION_TEXT', 'POSITION_ORDER', 'POINTS', 'LAPS', 'TIME', 'MILLISECONDS', 'FASTESTLAP', 'RANK', 'FASTESTLAPTIME', 'FASTESTLAPSPEED', 'IDENTIFIER_STATUS', 'DATA_HORA_BRONZE', 'NOME_ARQUIVO', 'DATA_HORA_SILVER']\n['YEAR', 'URL', 'DATA_HORA_BRONZE', 'NOME_ARQUIVO', 'DATA_HORA_SILVER']\n['IDENTIFIER_RESULT', 'IDENTIFIER_RACE', 'IDENTIFIER_DRIVER', 'IDENTIFIER_CONSTRUCTOR', 'NUMBER', 'GRID', 'POSITION', 'POSITION_TEXT', 'POSITION_ORDER', 'POINTS', 'LAPS', 'TIME', 'MILLISECONDS', 'FASTESTLAP', 'FASTESTLAPTIME', 'IDENTIFIER_STATUS', 'DATA_HORA_BRONZE', 'NOME_ARQUIVO', 'DATA_HORA_SILVER']\n['IDENTIFIER_STATUS', 'STATUS', 'DATA_HORA_BRONZE', 'NOME_ARQUIVO', 'DATA_HORA_SILVER']\n"
     ]
    }
   ],
   "source": [
    "# Consultando os dados alterados\n",
    "\n",
    "print(df_circuits.columns)\n",
    "print(df_constructor_results.columns)\n",
    "print(df_constructor_standings.columns)\n",
    "print(df_constructors.columns)\n",
    "print(df_driver_standings.columns)\n",
    "print(df_drivers.columns)\n",
    "print(df_lap_times.columns)\n",
    "print(df_pit_stops.columns)\n",
    "print(df_qualifying.columns)\n",
    "print(df_races.columns)\n",
    "print(df_results.columns)\n",
    "print(df_seasons.columns)\n",
    "print(df_sprint_results.columns)\n",
    "print(df_status.columns)"
   ]
  },
  {
   "cell_type": "code",
   "execution_count": 0,
   "metadata": {
    "application/vnd.databricks.v1+cell": {
     "cellMetadata": {
      "byteLimit": 2048000,
      "rowLimit": 10000
     },
     "inputWidgets": {},
     "nuid": "30c0597c-ee90-48cd-b618-4397d40816f9",
     "showTitle": false,
     "tableResultSettingsMap": {},
     "title": ""
    }
   },
   "outputs": [
    {
     "output_type": "display_data",
     "data": {
      "text/html": [
       "<style scoped>\n",
       "  .table-result-container {\n",
       "    max-height: 300px;\n",
       "    overflow: auto;\n",
       "  }\n",
       "  table, th, td {\n",
       "    border: 1px solid black;\n",
       "    border-collapse: collapse;\n",
       "  }\n",
       "  th, td {\n",
       "    padding: 5px;\n",
       "  }\n",
       "  th {\n",
       "    text-align: left;\n",
       "  }\n",
       "</style><div class='table-result-container'><table class='table-result'><thead style='background-color: white'><tr><th>IDENTIFIER_STATUS</th><th>STATUS</th><th>DATA_HORA_BRONZE</th><th>NOME_ARQUIVO</th><th>DATA_HORA_SILVER</th></tr></thead><tbody><tr><td>1</td><td>Finished</td><td>2025-06-19T21:54:27.228Z</td><td>status</td><td>2025-06-19T23:40:31.623Z</td></tr><tr><td>2</td><td>Disqualified</td><td>2025-06-19T21:54:27.228Z</td><td>status</td><td>2025-06-19T23:40:31.623Z</td></tr><tr><td>3</td><td>Accident</td><td>2025-06-19T21:54:27.228Z</td><td>status</td><td>2025-06-19T23:40:31.623Z</td></tr><tr><td>4</td><td>Collision</td><td>2025-06-19T21:54:27.228Z</td><td>status</td><td>2025-06-19T23:40:31.623Z</td></tr><tr><td>5</td><td>Engine</td><td>2025-06-19T21:54:27.228Z</td><td>status</td><td>2025-06-19T23:40:31.623Z</td></tr><tr><td>6</td><td>Gearbox</td><td>2025-06-19T21:54:27.228Z</td><td>status</td><td>2025-06-19T23:40:31.623Z</td></tr><tr><td>7</td><td>Transmission</td><td>2025-06-19T21:54:27.228Z</td><td>status</td><td>2025-06-19T23:40:31.623Z</td></tr><tr><td>8</td><td>Clutch</td><td>2025-06-19T21:54:27.228Z</td><td>status</td><td>2025-06-19T23:40:31.623Z</td></tr><tr><td>9</td><td>Hydraulics</td><td>2025-06-19T21:54:27.228Z</td><td>status</td><td>2025-06-19T23:40:31.623Z</td></tr><tr><td>10</td><td>Electrical</td><td>2025-06-19T21:54:27.228Z</td><td>status</td><td>2025-06-19T23:40:31.623Z</td></tr><tr><td>11</td><td>+1 Lap</td><td>2025-06-19T21:54:27.228Z</td><td>status</td><td>2025-06-19T23:40:31.623Z</td></tr><tr><td>12</td><td>+2 Laps</td><td>2025-06-19T21:54:27.228Z</td><td>status</td><td>2025-06-19T23:40:31.623Z</td></tr><tr><td>13</td><td>+3 Laps</td><td>2025-06-19T21:54:27.228Z</td><td>status</td><td>2025-06-19T23:40:31.623Z</td></tr><tr><td>14</td><td>+4 Laps</td><td>2025-06-19T21:54:27.228Z</td><td>status</td><td>2025-06-19T23:40:31.623Z</td></tr><tr><td>15</td><td>+5 Laps</td><td>2025-06-19T21:54:27.228Z</td><td>status</td><td>2025-06-19T23:40:31.623Z</td></tr><tr><td>16</td><td>+6 Laps</td><td>2025-06-19T21:54:27.228Z</td><td>status</td><td>2025-06-19T23:40:31.623Z</td></tr><tr><td>17</td><td>+7 Laps</td><td>2025-06-19T21:54:27.228Z</td><td>status</td><td>2025-06-19T23:40:31.623Z</td></tr><tr><td>18</td><td>+8 Laps</td><td>2025-06-19T21:54:27.228Z</td><td>status</td><td>2025-06-19T23:40:31.623Z</td></tr><tr><td>19</td><td>+9 Laps</td><td>2025-06-19T21:54:27.228Z</td><td>status</td><td>2025-06-19T23:40:31.623Z</td></tr><tr><td>20</td><td>Spun off</td><td>2025-06-19T21:54:27.228Z</td><td>status</td><td>2025-06-19T23:40:31.623Z</td></tr><tr><td>21</td><td>Radiator</td><td>2025-06-19T21:54:27.228Z</td><td>status</td><td>2025-06-19T23:40:31.623Z</td></tr><tr><td>22</td><td>Suspension</td><td>2025-06-19T21:54:27.228Z</td><td>status</td><td>2025-06-19T23:40:31.623Z</td></tr><tr><td>23</td><td>Brakes</td><td>2025-06-19T21:54:27.228Z</td><td>status</td><td>2025-06-19T23:40:31.623Z</td></tr><tr><td>24</td><td>Differential</td><td>2025-06-19T21:54:27.228Z</td><td>status</td><td>2025-06-19T23:40:31.623Z</td></tr><tr><td>25</td><td>Overheating</td><td>2025-06-19T21:54:27.228Z</td><td>status</td><td>2025-06-19T23:40:31.623Z</td></tr><tr><td>26</td><td>Mechanical</td><td>2025-06-19T21:54:27.228Z</td><td>status</td><td>2025-06-19T23:40:31.623Z</td></tr><tr><td>27</td><td>Tyre</td><td>2025-06-19T21:54:27.228Z</td><td>status</td><td>2025-06-19T23:40:31.623Z</td></tr><tr><td>28</td><td>Driver Seat</td><td>2025-06-19T21:54:27.228Z</td><td>status</td><td>2025-06-19T23:40:31.623Z</td></tr><tr><td>29</td><td>Puncture</td><td>2025-06-19T21:54:27.228Z</td><td>status</td><td>2025-06-19T23:40:31.623Z</td></tr><tr><td>30</td><td>Driveshaft</td><td>2025-06-19T21:54:27.228Z</td><td>status</td><td>2025-06-19T23:40:31.623Z</td></tr><tr><td>31</td><td>Retired</td><td>2025-06-19T21:54:27.228Z</td><td>status</td><td>2025-06-19T23:40:31.623Z</td></tr><tr><td>32</td><td>Fuel pressure</td><td>2025-06-19T21:54:27.228Z</td><td>status</td><td>2025-06-19T23:40:31.623Z</td></tr><tr><td>33</td><td>Front wing</td><td>2025-06-19T21:54:27.228Z</td><td>status</td><td>2025-06-19T23:40:31.623Z</td></tr><tr><td>34</td><td>Water pressure</td><td>2025-06-19T21:54:27.228Z</td><td>status</td><td>2025-06-19T23:40:31.623Z</td></tr><tr><td>35</td><td>Refuelling</td><td>2025-06-19T21:54:27.228Z</td><td>status</td><td>2025-06-19T23:40:31.623Z</td></tr><tr><td>36</td><td>Wheel</td><td>2025-06-19T21:54:27.228Z</td><td>status</td><td>2025-06-19T23:40:31.623Z</td></tr><tr><td>37</td><td>Throttle</td><td>2025-06-19T21:54:27.228Z</td><td>status</td><td>2025-06-19T23:40:31.623Z</td></tr><tr><td>38</td><td>Steering</td><td>2025-06-19T21:54:27.228Z</td><td>status</td><td>2025-06-19T23:40:31.623Z</td></tr><tr><td>39</td><td>Technical</td><td>2025-06-19T21:54:27.228Z</td><td>status</td><td>2025-06-19T23:40:31.623Z</td></tr><tr><td>40</td><td>Electronics</td><td>2025-06-19T21:54:27.228Z</td><td>status</td><td>2025-06-19T23:40:31.623Z</td></tr><tr><td>41</td><td>Broken wing</td><td>2025-06-19T21:54:27.228Z</td><td>status</td><td>2025-06-19T23:40:31.623Z</td></tr><tr><td>42</td><td>Heat shield fire</td><td>2025-06-19T21:54:27.228Z</td><td>status</td><td>2025-06-19T23:40:31.623Z</td></tr><tr><td>43</td><td>Exhaust</td><td>2025-06-19T21:54:27.228Z</td><td>status</td><td>2025-06-19T23:40:31.623Z</td></tr><tr><td>44</td><td>Oil leak</td><td>2025-06-19T21:54:27.228Z</td><td>status</td><td>2025-06-19T23:40:31.623Z</td></tr><tr><td>45</td><td>+11 Laps</td><td>2025-06-19T21:54:27.228Z</td><td>status</td><td>2025-06-19T23:40:31.623Z</td></tr><tr><td>46</td><td>Wheel rim</td><td>2025-06-19T21:54:27.228Z</td><td>status</td><td>2025-06-19T23:40:31.623Z</td></tr><tr><td>47</td><td>Water leak</td><td>2025-06-19T21:54:27.228Z</td><td>status</td><td>2025-06-19T23:40:31.623Z</td></tr><tr><td>48</td><td>Fuel pump</td><td>2025-06-19T21:54:27.228Z</td><td>status</td><td>2025-06-19T23:40:31.623Z</td></tr><tr><td>49</td><td>Track rod</td><td>2025-06-19T21:54:27.228Z</td><td>status</td><td>2025-06-19T23:40:31.623Z</td></tr><tr><td>50</td><td>+17 Laps</td><td>2025-06-19T21:54:27.228Z</td><td>status</td><td>2025-06-19T23:40:31.623Z</td></tr><tr><td>51</td><td>Oil pressure</td><td>2025-06-19T21:54:27.228Z</td><td>status</td><td>2025-06-19T23:40:31.623Z</td></tr><tr><td>128</td><td>+42 Laps</td><td>2025-06-19T21:54:27.228Z</td><td>status</td><td>2025-06-19T23:40:31.623Z</td></tr><tr><td>53</td><td>+13 Laps</td><td>2025-06-19T21:54:27.228Z</td><td>status</td><td>2025-06-19T23:40:31.623Z</td></tr><tr><td>54</td><td>Withdrew</td><td>2025-06-19T21:54:27.228Z</td><td>status</td><td>2025-06-19T23:40:31.623Z</td></tr><tr><td>55</td><td>+12 Laps</td><td>2025-06-19T21:54:27.228Z</td><td>status</td><td>2025-06-19T23:40:31.623Z</td></tr><tr><td>56</td><td>Engine fire</td><td>2025-06-19T21:54:27.228Z</td><td>status</td><td>2025-06-19T23:40:31.623Z</td></tr><tr><td>129</td><td>Engine misfire</td><td>2025-06-19T21:54:27.228Z</td><td>status</td><td>2025-06-19T23:40:31.623Z</td></tr><tr><td>58</td><td>+26 Laps</td><td>2025-06-19T21:54:27.228Z</td><td>status</td><td>2025-06-19T23:40:31.623Z</td></tr><tr><td>59</td><td>Tyre puncture</td><td>2025-06-19T21:54:27.228Z</td><td>status</td><td>2025-06-19T23:40:31.623Z</td></tr><tr><td>60</td><td>Out of fuel</td><td>2025-06-19T21:54:27.228Z</td><td>status</td><td>2025-06-19T23:40:31.623Z</td></tr><tr><td>61</td><td>Wheel nut</td><td>2025-06-19T21:54:27.228Z</td><td>status</td><td>2025-06-19T23:40:31.623Z</td></tr><tr><td>62</td><td>Not classified</td><td>2025-06-19T21:54:27.228Z</td><td>status</td><td>2025-06-19T23:40:31.623Z</td></tr><tr><td>63</td><td>Pneumatics</td><td>2025-06-19T21:54:27.228Z</td><td>status</td><td>2025-06-19T23:40:31.623Z</td></tr><tr><td>64</td><td>Handling</td><td>2025-06-19T21:54:27.228Z</td><td>status</td><td>2025-06-19T23:40:31.623Z</td></tr><tr><td>65</td><td>Rear wing</td><td>2025-06-19T21:54:27.228Z</td><td>status</td><td>2025-06-19T23:40:31.623Z</td></tr><tr><td>66</td><td>Fire</td><td>2025-06-19T21:54:27.228Z</td><td>status</td><td>2025-06-19T23:40:31.623Z</td></tr><tr><td>67</td><td>Wheel bearing</td><td>2025-06-19T21:54:27.228Z</td><td>status</td><td>2025-06-19T23:40:31.623Z</td></tr><tr><td>68</td><td>Physical</td><td>2025-06-19T21:54:27.228Z</td><td>status</td><td>2025-06-19T23:40:31.623Z</td></tr><tr><td>69</td><td>Fuel system</td><td>2025-06-19T21:54:27.228Z</td><td>status</td><td>2025-06-19T23:40:31.623Z</td></tr><tr><td>70</td><td>Oil line</td><td>2025-06-19T21:54:27.228Z</td><td>status</td><td>2025-06-19T23:40:31.623Z</td></tr><tr><td>71</td><td>Fuel rig</td><td>2025-06-19T21:54:27.228Z</td><td>status</td><td>2025-06-19T23:40:31.623Z</td></tr><tr><td>72</td><td>Launch control</td><td>2025-06-19T21:54:27.228Z</td><td>status</td><td>2025-06-19T23:40:31.623Z</td></tr><tr><td>73</td><td>Injured</td><td>2025-06-19T21:54:27.228Z</td><td>status</td><td>2025-06-19T23:40:31.623Z</td></tr><tr><td>74</td><td>Fuel</td><td>2025-06-19T21:54:27.228Z</td><td>status</td><td>2025-06-19T23:40:31.623Z</td></tr><tr><td>75</td><td>Power loss</td><td>2025-06-19T21:54:27.228Z</td><td>status</td><td>2025-06-19T23:40:31.623Z</td></tr><tr><td>76</td><td>Vibrations</td><td>2025-06-19T21:54:27.228Z</td><td>status</td><td>2025-06-19T23:40:31.623Z</td></tr><tr><td>77</td><td>107% Rule</td><td>2025-06-19T21:54:27.228Z</td><td>status</td><td>2025-06-19T23:40:31.623Z</td></tr><tr><td>78</td><td>Safety</td><td>2025-06-19T21:54:27.228Z</td><td>status</td><td>2025-06-19T23:40:31.623Z</td></tr><tr><td>79</td><td>Drivetrain</td><td>2025-06-19T21:54:27.228Z</td><td>status</td><td>2025-06-19T23:40:31.623Z</td></tr><tr><td>80</td><td>Ignition</td><td>2025-06-19T21:54:27.228Z</td><td>status</td><td>2025-06-19T23:40:31.623Z</td></tr><tr><td>81</td><td>Did not qualify</td><td>2025-06-19T21:54:27.228Z</td><td>status</td><td>2025-06-19T23:40:31.623Z</td></tr><tr><td>82</td><td>Injury</td><td>2025-06-19T21:54:27.228Z</td><td>status</td><td>2025-06-19T23:40:31.623Z</td></tr><tr><td>83</td><td>Chassis</td><td>2025-06-19T21:54:27.228Z</td><td>status</td><td>2025-06-19T23:40:31.623Z</td></tr><tr><td>84</td><td>Battery</td><td>2025-06-19T21:54:27.228Z</td><td>status</td><td>2025-06-19T23:40:31.623Z</td></tr><tr><td>85</td><td>Stalled</td><td>2025-06-19T21:54:27.228Z</td><td>status</td><td>2025-06-19T23:40:31.623Z</td></tr><tr><td>86</td><td>Halfshaft</td><td>2025-06-19T21:54:27.228Z</td><td>status</td><td>2025-06-19T23:40:31.623Z</td></tr><tr><td>87</td><td>Crankshaft</td><td>2025-06-19T21:54:27.228Z</td><td>status</td><td>2025-06-19T23:40:31.623Z</td></tr><tr><td>88</td><td>+10 Laps</td><td>2025-06-19T21:54:27.228Z</td><td>status</td><td>2025-06-19T23:40:31.623Z</td></tr><tr><td>89</td><td>Safety concerns</td><td>2025-06-19T21:54:27.228Z</td><td>status</td><td>2025-06-19T23:40:31.623Z</td></tr><tr><td>90</td><td>Not restarted</td><td>2025-06-19T21:54:27.228Z</td><td>status</td><td>2025-06-19T23:40:31.623Z</td></tr><tr><td>91</td><td>Alternator</td><td>2025-06-19T21:54:27.228Z</td><td>status</td><td>2025-06-19T23:40:31.623Z</td></tr><tr><td>92</td><td>Underweight</td><td>2025-06-19T21:54:27.228Z</td><td>status</td><td>2025-06-19T23:40:31.623Z</td></tr><tr><td>93</td><td>Safety belt</td><td>2025-06-19T21:54:27.228Z</td><td>status</td><td>2025-06-19T23:40:31.623Z</td></tr><tr><td>94</td><td>Oil pump</td><td>2025-06-19T21:54:27.228Z</td><td>status</td><td>2025-06-19T23:40:31.623Z</td></tr><tr><td>95</td><td>Fuel leak</td><td>2025-06-19T21:54:27.228Z</td><td>status</td><td>2025-06-19T23:40:31.623Z</td></tr><tr><td>96</td><td>Excluded</td><td>2025-06-19T21:54:27.228Z</td><td>status</td><td>2025-06-19T23:40:31.623Z</td></tr><tr><td>97</td><td>Did not prequalify</td><td>2025-06-19T21:54:27.228Z</td><td>status</td><td>2025-06-19T23:40:31.623Z</td></tr><tr><td>98</td><td>Injection</td><td>2025-06-19T21:54:27.228Z</td><td>status</td><td>2025-06-19T23:40:31.623Z</td></tr><tr><td>99</td><td>Distributor</td><td>2025-06-19T21:54:27.228Z</td><td>status</td><td>2025-06-19T23:40:31.623Z</td></tr><tr><td>100</td><td>Driver unwell</td><td>2025-06-19T21:54:27.228Z</td><td>status</td><td>2025-06-19T23:40:31.623Z</td></tr><tr><td>101</td><td>Turbo</td><td>2025-06-19T21:54:27.228Z</td><td>status</td><td>2025-06-19T23:40:31.623Z</td></tr><tr><td>102</td><td>CV joint</td><td>2025-06-19T21:54:27.228Z</td><td>status</td><td>2025-06-19T23:40:31.623Z</td></tr><tr><td>103</td><td>Water pump</td><td>2025-06-19T21:54:27.228Z</td><td>status</td><td>2025-06-19T23:40:31.623Z</td></tr><tr><td>104</td><td>Fatal accident</td><td>2025-06-19T21:54:27.228Z</td><td>status</td><td>2025-06-19T23:40:31.623Z</td></tr><tr><td>105</td><td>Spark plugs</td><td>2025-06-19T21:54:27.228Z</td><td>status</td><td>2025-06-19T23:40:31.623Z</td></tr><tr><td>106</td><td>Fuel pipe</td><td>2025-06-19T21:54:27.228Z</td><td>status</td><td>2025-06-19T23:40:31.623Z</td></tr><tr><td>107</td><td>Eye injury</td><td>2025-06-19T21:54:27.228Z</td><td>status</td><td>2025-06-19T23:40:31.623Z</td></tr><tr><td>108</td><td>Oil pipe</td><td>2025-06-19T21:54:27.228Z</td><td>status</td><td>2025-06-19T23:40:31.623Z</td></tr><tr><td>109</td><td>Axle</td><td>2025-06-19T21:54:27.228Z</td><td>status</td><td>2025-06-19T23:40:31.623Z</td></tr><tr><td>110</td><td>Water pipe</td><td>2025-06-19T21:54:27.228Z</td><td>status</td><td>2025-06-19T23:40:31.623Z</td></tr><tr><td>111</td><td>+14 Laps</td><td>2025-06-19T21:54:27.228Z</td><td>status</td><td>2025-06-19T23:40:31.623Z</td></tr><tr><td>112</td><td>+15 Laps</td><td>2025-06-19T21:54:27.228Z</td><td>status</td><td>2025-06-19T23:40:31.623Z</td></tr><tr><td>113</td><td>+25 Laps</td><td>2025-06-19T21:54:27.228Z</td><td>status</td><td>2025-06-19T23:40:31.623Z</td></tr><tr><td>114</td><td>+18 Laps</td><td>2025-06-19T21:54:27.228Z</td><td>status</td><td>2025-06-19T23:40:31.623Z</td></tr><tr><td>115</td><td>+22 Laps</td><td>2025-06-19T21:54:27.228Z</td><td>status</td><td>2025-06-19T23:40:31.623Z</td></tr><tr><td>116</td><td>+16 Laps</td><td>2025-06-19T21:54:27.228Z</td><td>status</td><td>2025-06-19T23:40:31.623Z</td></tr><tr><td>117</td><td>+24 Laps</td><td>2025-06-19T21:54:27.228Z</td><td>status</td><td>2025-06-19T23:40:31.623Z</td></tr><tr><td>118</td><td>+29 Laps</td><td>2025-06-19T21:54:27.228Z</td><td>status</td><td>2025-06-19T23:40:31.623Z</td></tr><tr><td>119</td><td>+23 Laps</td><td>2025-06-19T21:54:27.228Z</td><td>status</td><td>2025-06-19T23:40:31.623Z</td></tr><tr><td>120</td><td>+21 Laps</td><td>2025-06-19T21:54:27.228Z</td><td>status</td><td>2025-06-19T23:40:31.623Z</td></tr><tr><td>121</td><td>Magneto</td><td>2025-06-19T21:54:27.228Z</td><td>status</td><td>2025-06-19T23:40:31.623Z</td></tr><tr><td>122</td><td>+44 Laps</td><td>2025-06-19T21:54:27.228Z</td><td>status</td><td>2025-06-19T23:40:31.623Z</td></tr><tr><td>123</td><td>+30 Laps</td><td>2025-06-19T21:54:27.228Z</td><td>status</td><td>2025-06-19T23:40:31.623Z</td></tr><tr><td>124</td><td>+19 Laps</td><td>2025-06-19T21:54:27.228Z</td><td>status</td><td>2025-06-19T23:40:31.623Z</td></tr><tr><td>125</td><td>+46 Laps</td><td>2025-06-19T21:54:27.228Z</td><td>status</td><td>2025-06-19T23:40:31.623Z</td></tr><tr><td>126</td><td>Supercharger</td><td>2025-06-19T21:54:27.228Z</td><td>status</td><td>2025-06-19T23:40:31.623Z</td></tr><tr><td>127</td><td>+20 Laps</td><td>2025-06-19T21:54:27.228Z</td><td>status</td><td>2025-06-19T23:40:31.623Z</td></tr><tr><td>130</td><td>Collision damage</td><td>2025-06-19T21:54:27.228Z</td><td>status</td><td>2025-06-19T23:40:31.623Z</td></tr><tr><td>131</td><td>Power Unit</td><td>2025-06-19T21:54:27.228Z</td><td>status</td><td>2025-06-19T23:40:31.623Z</td></tr><tr><td>132</td><td>ERS</td><td>2025-06-19T21:54:27.228Z</td><td>status</td><td>2025-06-19T23:40:31.623Z</td></tr><tr><td>133</td><td>+49 Laps</td><td>2025-06-19T21:54:27.228Z</td><td>status</td><td>2025-06-19T23:40:31.623Z</td></tr><tr><td>134</td><td>+38 Laps</td><td>2025-06-19T21:54:27.228Z</td><td>status</td><td>2025-06-19T23:40:31.623Z</td></tr><tr><td>135</td><td>Brake duct</td><td>2025-06-19T21:54:27.228Z</td><td>status</td><td>2025-06-19T23:40:31.623Z</td></tr><tr><td>136</td><td>Seat</td><td>2025-06-19T21:54:27.228Z</td><td>status</td><td>2025-06-19T23:40:31.623Z</td></tr><tr><td>137</td><td>Damage</td><td>2025-06-19T21:54:27.228Z</td><td>status</td><td>2025-06-19T23:40:31.623Z</td></tr><tr><td>138</td><td>Debris</td><td>2025-06-19T21:54:27.228Z</td><td>status</td><td>2025-06-19T23:40:31.623Z</td></tr><tr><td>139</td><td>Illness</td><td>2025-06-19T21:54:27.228Z</td><td>status</td><td>2025-06-19T23:40:31.623Z</td></tr><tr><td>140</td><td>Undertray</td><td>2025-06-19T21:54:27.228Z</td><td>status</td><td>2025-06-19T23:40:31.623Z</td></tr><tr><td>141</td><td>Cooling system</td><td>2025-06-19T21:54:27.228Z</td><td>status</td><td>2025-06-19T23:40:31.623Z</td></tr></tbody></table></div>"
      ]
     },
     "metadata": {
      "application/vnd.databricks.v1+output": {
       "addedWidgets": {},
       "aggData": [],
       "aggError": "",
       "aggOverflow": false,
       "aggSchema": [],
       "aggSeriesLimitReached": false,
       "aggType": "",
       "arguments": {},
       "columnCustomDisplayInfos": {},
       "data": [
        [
         "1",
         "Finished",
         "2025-06-19T21:54:27.228Z",
         "status",
         "2025-06-19T23:40:31.623Z"
        ],
        [
         "2",
         "Disqualified",
         "2025-06-19T21:54:27.228Z",
         "status",
         "2025-06-19T23:40:31.623Z"
        ],
        [
         "3",
         "Accident",
         "2025-06-19T21:54:27.228Z",
         "status",
         "2025-06-19T23:40:31.623Z"
        ],
        [
         "4",
         "Collision",
         "2025-06-19T21:54:27.228Z",
         "status",
         "2025-06-19T23:40:31.623Z"
        ],
        [
         "5",
         "Engine",
         "2025-06-19T21:54:27.228Z",
         "status",
         "2025-06-19T23:40:31.623Z"
        ],
        [
         "6",
         "Gearbox",
         "2025-06-19T21:54:27.228Z",
         "status",
         "2025-06-19T23:40:31.623Z"
        ],
        [
         "7",
         "Transmission",
         "2025-06-19T21:54:27.228Z",
         "status",
         "2025-06-19T23:40:31.623Z"
        ],
        [
         "8",
         "Clutch",
         "2025-06-19T21:54:27.228Z",
         "status",
         "2025-06-19T23:40:31.623Z"
        ],
        [
         "9",
         "Hydraulics",
         "2025-06-19T21:54:27.228Z",
         "status",
         "2025-06-19T23:40:31.623Z"
        ],
        [
         "10",
         "Electrical",
         "2025-06-19T21:54:27.228Z",
         "status",
         "2025-06-19T23:40:31.623Z"
        ],
        [
         "11",
         "+1 Lap",
         "2025-06-19T21:54:27.228Z",
         "status",
         "2025-06-19T23:40:31.623Z"
        ],
        [
         "12",
         "+2 Laps",
         "2025-06-19T21:54:27.228Z",
         "status",
         "2025-06-19T23:40:31.623Z"
        ],
        [
         "13",
         "+3 Laps",
         "2025-06-19T21:54:27.228Z",
         "status",
         "2025-06-19T23:40:31.623Z"
        ],
        [
         "14",
         "+4 Laps",
         "2025-06-19T21:54:27.228Z",
         "status",
         "2025-06-19T23:40:31.623Z"
        ],
        [
         "15",
         "+5 Laps",
         "2025-06-19T21:54:27.228Z",
         "status",
         "2025-06-19T23:40:31.623Z"
        ],
        [
         "16",
         "+6 Laps",
         "2025-06-19T21:54:27.228Z",
         "status",
         "2025-06-19T23:40:31.623Z"
        ],
        [
         "17",
         "+7 Laps",
         "2025-06-19T21:54:27.228Z",
         "status",
         "2025-06-19T23:40:31.623Z"
        ],
        [
         "18",
         "+8 Laps",
         "2025-06-19T21:54:27.228Z",
         "status",
         "2025-06-19T23:40:31.623Z"
        ],
        [
         "19",
         "+9 Laps",
         "2025-06-19T21:54:27.228Z",
         "status",
         "2025-06-19T23:40:31.623Z"
        ],
        [
         "20",
         "Spun off",
         "2025-06-19T21:54:27.228Z",
         "status",
         "2025-06-19T23:40:31.623Z"
        ],
        [
         "21",
         "Radiator",
         "2025-06-19T21:54:27.228Z",
         "status",
         "2025-06-19T23:40:31.623Z"
        ],
        [
         "22",
         "Suspension",
         "2025-06-19T21:54:27.228Z",
         "status",
         "2025-06-19T23:40:31.623Z"
        ],
        [
         "23",
         "Brakes",
         "2025-06-19T21:54:27.228Z",
         "status",
         "2025-06-19T23:40:31.623Z"
        ],
        [
         "24",
         "Differential",
         "2025-06-19T21:54:27.228Z",
         "status",
         "2025-06-19T23:40:31.623Z"
        ],
        [
         "25",
         "Overheating",
         "2025-06-19T21:54:27.228Z",
         "status",
         "2025-06-19T23:40:31.623Z"
        ],
        [
         "26",
         "Mechanical",
         "2025-06-19T21:54:27.228Z",
         "status",
         "2025-06-19T23:40:31.623Z"
        ],
        [
         "27",
         "Tyre",
         "2025-06-19T21:54:27.228Z",
         "status",
         "2025-06-19T23:40:31.623Z"
        ],
        [
         "28",
         "Driver Seat",
         "2025-06-19T21:54:27.228Z",
         "status",
         "2025-06-19T23:40:31.623Z"
        ],
        [
         "29",
         "Puncture",
         "2025-06-19T21:54:27.228Z",
         "status",
         "2025-06-19T23:40:31.623Z"
        ],
        [
         "30",
         "Driveshaft",
         "2025-06-19T21:54:27.228Z",
         "status",
         "2025-06-19T23:40:31.623Z"
        ],
        [
         "31",
         "Retired",
         "2025-06-19T21:54:27.228Z",
         "status",
         "2025-06-19T23:40:31.623Z"
        ],
        [
         "32",
         "Fuel pressure",
         "2025-06-19T21:54:27.228Z",
         "status",
         "2025-06-19T23:40:31.623Z"
        ],
        [
         "33",
         "Front wing",
         "2025-06-19T21:54:27.228Z",
         "status",
         "2025-06-19T23:40:31.623Z"
        ],
        [
         "34",
         "Water pressure",
         "2025-06-19T21:54:27.228Z",
         "status",
         "2025-06-19T23:40:31.623Z"
        ],
        [
         "35",
         "Refuelling",
         "2025-06-19T21:54:27.228Z",
         "status",
         "2025-06-19T23:40:31.623Z"
        ],
        [
         "36",
         "Wheel",
         "2025-06-19T21:54:27.228Z",
         "status",
         "2025-06-19T23:40:31.623Z"
        ],
        [
         "37",
         "Throttle",
         "2025-06-19T21:54:27.228Z",
         "status",
         "2025-06-19T23:40:31.623Z"
        ],
        [
         "38",
         "Steering",
         "2025-06-19T21:54:27.228Z",
         "status",
         "2025-06-19T23:40:31.623Z"
        ],
        [
         "39",
         "Technical",
         "2025-06-19T21:54:27.228Z",
         "status",
         "2025-06-19T23:40:31.623Z"
        ],
        [
         "40",
         "Electronics",
         "2025-06-19T21:54:27.228Z",
         "status",
         "2025-06-19T23:40:31.623Z"
        ],
        [
         "41",
         "Broken wing",
         "2025-06-19T21:54:27.228Z",
         "status",
         "2025-06-19T23:40:31.623Z"
        ],
        [
         "42",
         "Heat shield fire",
         "2025-06-19T21:54:27.228Z",
         "status",
         "2025-06-19T23:40:31.623Z"
        ],
        [
         "43",
         "Exhaust",
         "2025-06-19T21:54:27.228Z",
         "status",
         "2025-06-19T23:40:31.623Z"
        ],
        [
         "44",
         "Oil leak",
         "2025-06-19T21:54:27.228Z",
         "status",
         "2025-06-19T23:40:31.623Z"
        ],
        [
         "45",
         "+11 Laps",
         "2025-06-19T21:54:27.228Z",
         "status",
         "2025-06-19T23:40:31.623Z"
        ],
        [
         "46",
         "Wheel rim",
         "2025-06-19T21:54:27.228Z",
         "status",
         "2025-06-19T23:40:31.623Z"
        ],
        [
         "47",
         "Water leak",
         "2025-06-19T21:54:27.228Z",
         "status",
         "2025-06-19T23:40:31.623Z"
        ],
        [
         "48",
         "Fuel pump",
         "2025-06-19T21:54:27.228Z",
         "status",
         "2025-06-19T23:40:31.623Z"
        ],
        [
         "49",
         "Track rod",
         "2025-06-19T21:54:27.228Z",
         "status",
         "2025-06-19T23:40:31.623Z"
        ],
        [
         "50",
         "+17 Laps",
         "2025-06-19T21:54:27.228Z",
         "status",
         "2025-06-19T23:40:31.623Z"
        ],
        [
         "51",
         "Oil pressure",
         "2025-06-19T21:54:27.228Z",
         "status",
         "2025-06-19T23:40:31.623Z"
        ],
        [
         "128",
         "+42 Laps",
         "2025-06-19T21:54:27.228Z",
         "status",
         "2025-06-19T23:40:31.623Z"
        ],
        [
         "53",
         "+13 Laps",
         "2025-06-19T21:54:27.228Z",
         "status",
         "2025-06-19T23:40:31.623Z"
        ],
        [
         "54",
         "Withdrew",
         "2025-06-19T21:54:27.228Z",
         "status",
         "2025-06-19T23:40:31.623Z"
        ],
        [
         "55",
         "+12 Laps",
         "2025-06-19T21:54:27.228Z",
         "status",
         "2025-06-19T23:40:31.623Z"
        ],
        [
         "56",
         "Engine fire",
         "2025-06-19T21:54:27.228Z",
         "status",
         "2025-06-19T23:40:31.623Z"
        ],
        [
         "129",
         "Engine misfire",
         "2025-06-19T21:54:27.228Z",
         "status",
         "2025-06-19T23:40:31.623Z"
        ],
        [
         "58",
         "+26 Laps",
         "2025-06-19T21:54:27.228Z",
         "status",
         "2025-06-19T23:40:31.623Z"
        ],
        [
         "59",
         "Tyre puncture",
         "2025-06-19T21:54:27.228Z",
         "status",
         "2025-06-19T23:40:31.623Z"
        ],
        [
         "60",
         "Out of fuel",
         "2025-06-19T21:54:27.228Z",
         "status",
         "2025-06-19T23:40:31.623Z"
        ],
        [
         "61",
         "Wheel nut",
         "2025-06-19T21:54:27.228Z",
         "status",
         "2025-06-19T23:40:31.623Z"
        ],
        [
         "62",
         "Not classified",
         "2025-06-19T21:54:27.228Z",
         "status",
         "2025-06-19T23:40:31.623Z"
        ],
        [
         "63",
         "Pneumatics",
         "2025-06-19T21:54:27.228Z",
         "status",
         "2025-06-19T23:40:31.623Z"
        ],
        [
         "64",
         "Handling",
         "2025-06-19T21:54:27.228Z",
         "status",
         "2025-06-19T23:40:31.623Z"
        ],
        [
         "65",
         "Rear wing",
         "2025-06-19T21:54:27.228Z",
         "status",
         "2025-06-19T23:40:31.623Z"
        ],
        [
         "66",
         "Fire",
         "2025-06-19T21:54:27.228Z",
         "status",
         "2025-06-19T23:40:31.623Z"
        ],
        [
         "67",
         "Wheel bearing",
         "2025-06-19T21:54:27.228Z",
         "status",
         "2025-06-19T23:40:31.623Z"
        ],
        [
         "68",
         "Physical",
         "2025-06-19T21:54:27.228Z",
         "status",
         "2025-06-19T23:40:31.623Z"
        ],
        [
         "69",
         "Fuel system",
         "2025-06-19T21:54:27.228Z",
         "status",
         "2025-06-19T23:40:31.623Z"
        ],
        [
         "70",
         "Oil line",
         "2025-06-19T21:54:27.228Z",
         "status",
         "2025-06-19T23:40:31.623Z"
        ],
        [
         "71",
         "Fuel rig",
         "2025-06-19T21:54:27.228Z",
         "status",
         "2025-06-19T23:40:31.623Z"
        ],
        [
         "72",
         "Launch control",
         "2025-06-19T21:54:27.228Z",
         "status",
         "2025-06-19T23:40:31.623Z"
        ],
        [
         "73",
         "Injured",
         "2025-06-19T21:54:27.228Z",
         "status",
         "2025-06-19T23:40:31.623Z"
        ],
        [
         "74",
         "Fuel",
         "2025-06-19T21:54:27.228Z",
         "status",
         "2025-06-19T23:40:31.623Z"
        ],
        [
         "75",
         "Power loss",
         "2025-06-19T21:54:27.228Z",
         "status",
         "2025-06-19T23:40:31.623Z"
        ],
        [
         "76",
         "Vibrations",
         "2025-06-19T21:54:27.228Z",
         "status",
         "2025-06-19T23:40:31.623Z"
        ],
        [
         "77",
         "107% Rule",
         "2025-06-19T21:54:27.228Z",
         "status",
         "2025-06-19T23:40:31.623Z"
        ],
        [
         "78",
         "Safety",
         "2025-06-19T21:54:27.228Z",
         "status",
         "2025-06-19T23:40:31.623Z"
        ],
        [
         "79",
         "Drivetrain",
         "2025-06-19T21:54:27.228Z",
         "status",
         "2025-06-19T23:40:31.623Z"
        ],
        [
         "80",
         "Ignition",
         "2025-06-19T21:54:27.228Z",
         "status",
         "2025-06-19T23:40:31.623Z"
        ],
        [
         "81",
         "Did not qualify",
         "2025-06-19T21:54:27.228Z",
         "status",
         "2025-06-19T23:40:31.623Z"
        ],
        [
         "82",
         "Injury",
         "2025-06-19T21:54:27.228Z",
         "status",
         "2025-06-19T23:40:31.623Z"
        ],
        [
         "83",
         "Chassis",
         "2025-06-19T21:54:27.228Z",
         "status",
         "2025-06-19T23:40:31.623Z"
        ],
        [
         "84",
         "Battery",
         "2025-06-19T21:54:27.228Z",
         "status",
         "2025-06-19T23:40:31.623Z"
        ],
        [
         "85",
         "Stalled",
         "2025-06-19T21:54:27.228Z",
         "status",
         "2025-06-19T23:40:31.623Z"
        ],
        [
         "86",
         "Halfshaft",
         "2025-06-19T21:54:27.228Z",
         "status",
         "2025-06-19T23:40:31.623Z"
        ],
        [
         "87",
         "Crankshaft",
         "2025-06-19T21:54:27.228Z",
         "status",
         "2025-06-19T23:40:31.623Z"
        ],
        [
         "88",
         "+10 Laps",
         "2025-06-19T21:54:27.228Z",
         "status",
         "2025-06-19T23:40:31.623Z"
        ],
        [
         "89",
         "Safety concerns",
         "2025-06-19T21:54:27.228Z",
         "status",
         "2025-06-19T23:40:31.623Z"
        ],
        [
         "90",
         "Not restarted",
         "2025-06-19T21:54:27.228Z",
         "status",
         "2025-06-19T23:40:31.623Z"
        ],
        [
         "91",
         "Alternator",
         "2025-06-19T21:54:27.228Z",
         "status",
         "2025-06-19T23:40:31.623Z"
        ],
        [
         "92",
         "Underweight",
         "2025-06-19T21:54:27.228Z",
         "status",
         "2025-06-19T23:40:31.623Z"
        ],
        [
         "93",
         "Safety belt",
         "2025-06-19T21:54:27.228Z",
         "status",
         "2025-06-19T23:40:31.623Z"
        ],
        [
         "94",
         "Oil pump",
         "2025-06-19T21:54:27.228Z",
         "status",
         "2025-06-19T23:40:31.623Z"
        ],
        [
         "95",
         "Fuel leak",
         "2025-06-19T21:54:27.228Z",
         "status",
         "2025-06-19T23:40:31.623Z"
        ],
        [
         "96",
         "Excluded",
         "2025-06-19T21:54:27.228Z",
         "status",
         "2025-06-19T23:40:31.623Z"
        ],
        [
         "97",
         "Did not prequalify",
         "2025-06-19T21:54:27.228Z",
         "status",
         "2025-06-19T23:40:31.623Z"
        ],
        [
         "98",
         "Injection",
         "2025-06-19T21:54:27.228Z",
         "status",
         "2025-06-19T23:40:31.623Z"
        ],
        [
         "99",
         "Distributor",
         "2025-06-19T21:54:27.228Z",
         "status",
         "2025-06-19T23:40:31.623Z"
        ],
        [
         "100",
         "Driver unwell",
         "2025-06-19T21:54:27.228Z",
         "status",
         "2025-06-19T23:40:31.623Z"
        ],
        [
         "101",
         "Turbo",
         "2025-06-19T21:54:27.228Z",
         "status",
         "2025-06-19T23:40:31.623Z"
        ],
        [
         "102",
         "CV joint",
         "2025-06-19T21:54:27.228Z",
         "status",
         "2025-06-19T23:40:31.623Z"
        ],
        [
         "103",
         "Water pump",
         "2025-06-19T21:54:27.228Z",
         "status",
         "2025-06-19T23:40:31.623Z"
        ],
        [
         "104",
         "Fatal accident",
         "2025-06-19T21:54:27.228Z",
         "status",
         "2025-06-19T23:40:31.623Z"
        ],
        [
         "105",
         "Spark plugs",
         "2025-06-19T21:54:27.228Z",
         "status",
         "2025-06-19T23:40:31.623Z"
        ],
        [
         "106",
         "Fuel pipe",
         "2025-06-19T21:54:27.228Z",
         "status",
         "2025-06-19T23:40:31.623Z"
        ],
        [
         "107",
         "Eye injury",
         "2025-06-19T21:54:27.228Z",
         "status",
         "2025-06-19T23:40:31.623Z"
        ],
        [
         "108",
         "Oil pipe",
         "2025-06-19T21:54:27.228Z",
         "status",
         "2025-06-19T23:40:31.623Z"
        ],
        [
         "109",
         "Axle",
         "2025-06-19T21:54:27.228Z",
         "status",
         "2025-06-19T23:40:31.623Z"
        ],
        [
         "110",
         "Water pipe",
         "2025-06-19T21:54:27.228Z",
         "status",
         "2025-06-19T23:40:31.623Z"
        ],
        [
         "111",
         "+14 Laps",
         "2025-06-19T21:54:27.228Z",
         "status",
         "2025-06-19T23:40:31.623Z"
        ],
        [
         "112",
         "+15 Laps",
         "2025-06-19T21:54:27.228Z",
         "status",
         "2025-06-19T23:40:31.623Z"
        ],
        [
         "113",
         "+25 Laps",
         "2025-06-19T21:54:27.228Z",
         "status",
         "2025-06-19T23:40:31.623Z"
        ],
        [
         "114",
         "+18 Laps",
         "2025-06-19T21:54:27.228Z",
         "status",
         "2025-06-19T23:40:31.623Z"
        ],
        [
         "115",
         "+22 Laps",
         "2025-06-19T21:54:27.228Z",
         "status",
         "2025-06-19T23:40:31.623Z"
        ],
        [
         "116",
         "+16 Laps",
         "2025-06-19T21:54:27.228Z",
         "status",
         "2025-06-19T23:40:31.623Z"
        ],
        [
         "117",
         "+24 Laps",
         "2025-06-19T21:54:27.228Z",
         "status",
         "2025-06-19T23:40:31.623Z"
        ],
        [
         "118",
         "+29 Laps",
         "2025-06-19T21:54:27.228Z",
         "status",
         "2025-06-19T23:40:31.623Z"
        ],
        [
         "119",
         "+23 Laps",
         "2025-06-19T21:54:27.228Z",
         "status",
         "2025-06-19T23:40:31.623Z"
        ],
        [
         "120",
         "+21 Laps",
         "2025-06-19T21:54:27.228Z",
         "status",
         "2025-06-19T23:40:31.623Z"
        ],
        [
         "121",
         "Magneto",
         "2025-06-19T21:54:27.228Z",
         "status",
         "2025-06-19T23:40:31.623Z"
        ],
        [
         "122",
         "+44 Laps",
         "2025-06-19T21:54:27.228Z",
         "status",
         "2025-06-19T23:40:31.623Z"
        ],
        [
         "123",
         "+30 Laps",
         "2025-06-19T21:54:27.228Z",
         "status",
         "2025-06-19T23:40:31.623Z"
        ],
        [
         "124",
         "+19 Laps",
         "2025-06-19T21:54:27.228Z",
         "status",
         "2025-06-19T23:40:31.623Z"
        ],
        [
         "125",
         "+46 Laps",
         "2025-06-19T21:54:27.228Z",
         "status",
         "2025-06-19T23:40:31.623Z"
        ],
        [
         "126",
         "Supercharger",
         "2025-06-19T21:54:27.228Z",
         "status",
         "2025-06-19T23:40:31.623Z"
        ],
        [
         "127",
         "+20 Laps",
         "2025-06-19T21:54:27.228Z",
         "status",
         "2025-06-19T23:40:31.623Z"
        ],
        [
         "130",
         "Collision damage",
         "2025-06-19T21:54:27.228Z",
         "status",
         "2025-06-19T23:40:31.623Z"
        ],
        [
         "131",
         "Power Unit",
         "2025-06-19T21:54:27.228Z",
         "status",
         "2025-06-19T23:40:31.623Z"
        ],
        [
         "132",
         "ERS",
         "2025-06-19T21:54:27.228Z",
         "status",
         "2025-06-19T23:40:31.623Z"
        ],
        [
         "133",
         "+49 Laps",
         "2025-06-19T21:54:27.228Z",
         "status",
         "2025-06-19T23:40:31.623Z"
        ],
        [
         "134",
         "+38 Laps",
         "2025-06-19T21:54:27.228Z",
         "status",
         "2025-06-19T23:40:31.623Z"
        ],
        [
         "135",
         "Brake duct",
         "2025-06-19T21:54:27.228Z",
         "status",
         "2025-06-19T23:40:31.623Z"
        ],
        [
         "136",
         "Seat",
         "2025-06-19T21:54:27.228Z",
         "status",
         "2025-06-19T23:40:31.623Z"
        ],
        [
         "137",
         "Damage",
         "2025-06-19T21:54:27.228Z",
         "status",
         "2025-06-19T23:40:31.623Z"
        ],
        [
         "138",
         "Debris",
         "2025-06-19T21:54:27.228Z",
         "status",
         "2025-06-19T23:40:31.623Z"
        ],
        [
         "139",
         "Illness",
         "2025-06-19T21:54:27.228Z",
         "status",
         "2025-06-19T23:40:31.623Z"
        ],
        [
         "140",
         "Undertray",
         "2025-06-19T21:54:27.228Z",
         "status",
         "2025-06-19T23:40:31.623Z"
        ],
        [
         "141",
         "Cooling system",
         "2025-06-19T21:54:27.228Z",
         "status",
         "2025-06-19T23:40:31.623Z"
        ]
       ],
       "datasetInfos": [],
       "dbfsResultPath": null,
       "isJsonSchema": true,
       "metadata": {},
       "overflow": false,
       "plotOptions": {
        "customPlotOptions": {},
        "displayType": "table",
        "pivotAggregation": null,
        "pivotColumns": null,
        "xColumns": null,
        "yColumns": null
       },
       "removedWidgets": [],
       "schema": [
        {
         "metadata": "{}",
         "name": "IDENTIFIER_STATUS",
         "type": "\"string\""
        },
        {
         "metadata": "{}",
         "name": "STATUS",
         "type": "\"string\""
        },
        {
         "metadata": "{}",
         "name": "DATA_HORA_BRONZE",
         "type": "\"timestamp\""
        },
        {
         "metadata": "{}",
         "name": "NOME_ARQUIVO",
         "type": "\"string\""
        },
        {
         "metadata": "{}",
         "name": "DATA_HORA_SILVER",
         "type": "\"timestamp\""
        }
       ],
       "type": "table"
      }
     },
     "output_type": "display_data"
    }
   ],
   "source": [
    "# Visualizando um dataframe atualizado para silver\n",
    "\n",
    "df_status.display()"
   ]
  },
  {
   "cell_type": "code",
   "execution_count": 0,
   "metadata": {
    "application/vnd.databricks.v1+cell": {
     "cellMetadata": {
      "byteLimit": 2048000,
      "rowLimit": 10000
     },
     "inputWidgets": {},
     "nuid": "0340e5fd-7042-4153-9075-738136b6989c",
     "showTitle": false,
     "tableResultSettingsMap": {},
     "title": ""
    }
   },
   "outputs": [],
   "source": [
    "# Salvando os dataframes em delta lake (formato de arquivo) no Data Lake (repositorio cloud)\n",
    "\n",
    "df_circuits.write.format('delta').save(f\"/mnt/{storageAccountName}/silver/circuits\")\n",
    "df_constructor_results.write.format('delta').save(f\"/mnt/{storageAccountName}/silver/constructor_results\")\n",
    "df_constructor_standings.write.format('delta').save(f\"/mnt/{storageAccountName}/silver/constructor_standings\")\n",
    "df_constructors.write.format('delta').save(f\"/mnt/{storageAccountName}/silver/constructors\")\n",
    "df_driver_standings.write.format('delta').save(f\"/mnt/{storageAccountName}/silver/driver_standings\")\n",
    "df_drivers.write.format('delta').save(f\"/mnt/{storageAccountName}/silver/drivers\")\n",
    "df_lap_times.write.format('delta').save(f\"/mnt/{storageAccountName}/silver/lap_times\")\n",
    "df_pit_stops.write.format('delta').save(f\"/mnt/{storageAccountName}/silver/pit_stops\")\n",
    "df_qualifying.write.format('delta').save(f\"/mnt/{storageAccountName}/silver/qualifying\")\n",
    "df_races.write.format('delta').save(f\"/mnt/{storageAccountName}/silver/races\")\n",
    "df_results.write.format('delta').save(f\"/mnt/{storageAccountName}/silver/results\")\n",
    "df_seasons.write.format('delta').save(f\"/mnt/{storageAccountName}/silver/seasons\")\n",
    "df_sprint_results.write.format('delta').save(f\"/mnt/{storageAccountName}/silver/sprint_results\")\n",
    "df_status.write.format('delta').save(f\"/mnt/{storageAccountName}/silver/status\")"
   ]
  },
  {
   "cell_type": "code",
   "execution_count": 0,
   "metadata": {
    "application/vnd.databricks.v1+cell": {
     "cellMetadata": {
      "byteLimit": 2048000,
      "rowLimit": 10000
     },
     "inputWidgets": {},
     "nuid": "ec353762-a97e-4c94-aafb-69b00f39b49c",
     "showTitle": false,
     "tableResultSettingsMap": {},
     "title": ""
    }
   },
   "outputs": [
    {
     "output_type": "display_data",
     "data": {
      "text/html": [
       "<style scoped>\n",
       "  .table-result-container {\n",
       "    max-height: 300px;\n",
       "    overflow: auto;\n",
       "  }\n",
       "  table, th, td {\n",
       "    border: 1px solid black;\n",
       "    border-collapse: collapse;\n",
       "  }\n",
       "  th, td {\n",
       "    padding: 5px;\n",
       "  }\n",
       "  th {\n",
       "    text-align: left;\n",
       "  }\n",
       "</style><div class='table-result-container'><table class='table-result'><thead style='background-color: white'><tr><th>path</th><th>name</th><th>size</th><th>modificationTime</th></tr></thead><tbody><tr><td>dbfs:/mnt/datalakeea44c854c651c494/silver/circuits/</td><td>circuits/</td><td>0</td><td>0</td></tr><tr><td>dbfs:/mnt/datalakeea44c854c651c494/silver/constructor_results/</td><td>constructor_results/</td><td>0</td><td>0</td></tr><tr><td>dbfs:/mnt/datalakeea44c854c651c494/silver/constructor_standings/</td><td>constructor_standings/</td><td>0</td><td>0</td></tr><tr><td>dbfs:/mnt/datalakeea44c854c651c494/silver/constructors/</td><td>constructors/</td><td>0</td><td>0</td></tr><tr><td>dbfs:/mnt/datalakeea44c854c651c494/silver/driver_standings/</td><td>driver_standings/</td><td>0</td><td>0</td></tr><tr><td>dbfs:/mnt/datalakeea44c854c651c494/silver/drivers/</td><td>drivers/</td><td>0</td><td>0</td></tr><tr><td>dbfs:/mnt/datalakeea44c854c651c494/silver/lap_times/</td><td>lap_times/</td><td>0</td><td>0</td></tr><tr><td>dbfs:/mnt/datalakeea44c854c651c494/silver/pit_stops/</td><td>pit_stops/</td><td>0</td><td>0</td></tr><tr><td>dbfs:/mnt/datalakeea44c854c651c494/silver/qualifying/</td><td>qualifying/</td><td>0</td><td>0</td></tr><tr><td>dbfs:/mnt/datalakeea44c854c651c494/silver/races/</td><td>races/</td><td>0</td><td>0</td></tr><tr><td>dbfs:/mnt/datalakeea44c854c651c494/silver/results/</td><td>results/</td><td>0</td><td>0</td></tr><tr><td>dbfs:/mnt/datalakeea44c854c651c494/silver/seasons/</td><td>seasons/</td><td>0</td><td>0</td></tr><tr><td>dbfs:/mnt/datalakeea44c854c651c494/silver/sprint_results/</td><td>sprint_results/</td><td>0</td><td>0</td></tr><tr><td>dbfs:/mnt/datalakeea44c854c651c494/silver/status/</td><td>status/</td><td>0</td><td>0</td></tr></tbody></table></div>"
      ]
     },
     "metadata": {
      "application/vnd.databricks.v1+output": {
       "addedWidgets": {},
       "aggData": [],
       "aggError": "",
       "aggOverflow": false,
       "aggSchema": [],
       "aggSeriesLimitReached": false,
       "aggType": "",
       "arguments": {},
       "columnCustomDisplayInfos": {},
       "data": [
        [
         "dbfs:/mnt/datalakeea44c854c651c494/silver/circuits/",
         "circuits/",
         0,
         0
        ],
        [
         "dbfs:/mnt/datalakeea44c854c651c494/silver/constructor_results/",
         "constructor_results/",
         0,
         0
        ],
        [
         "dbfs:/mnt/datalakeea44c854c651c494/silver/constructor_standings/",
         "constructor_standings/",
         0,
         0
        ],
        [
         "dbfs:/mnt/datalakeea44c854c651c494/silver/constructors/",
         "constructors/",
         0,
         0
        ],
        [
         "dbfs:/mnt/datalakeea44c854c651c494/silver/driver_standings/",
         "driver_standings/",
         0,
         0
        ],
        [
         "dbfs:/mnt/datalakeea44c854c651c494/silver/drivers/",
         "drivers/",
         0,
         0
        ],
        [
         "dbfs:/mnt/datalakeea44c854c651c494/silver/lap_times/",
         "lap_times/",
         0,
         0
        ],
        [
         "dbfs:/mnt/datalakeea44c854c651c494/silver/pit_stops/",
         "pit_stops/",
         0,
         0
        ],
        [
         "dbfs:/mnt/datalakeea44c854c651c494/silver/qualifying/",
         "qualifying/",
         0,
         0
        ],
        [
         "dbfs:/mnt/datalakeea44c854c651c494/silver/races/",
         "races/",
         0,
         0
        ],
        [
         "dbfs:/mnt/datalakeea44c854c651c494/silver/results/",
         "results/",
         0,
         0
        ],
        [
         "dbfs:/mnt/datalakeea44c854c651c494/silver/seasons/",
         "seasons/",
         0,
         0
        ],
        [
         "dbfs:/mnt/datalakeea44c854c651c494/silver/sprint_results/",
         "sprint_results/",
         0,
         0
        ],
        [
         "dbfs:/mnt/datalakeea44c854c651c494/silver/status/",
         "status/",
         0,
         0
        ]
       ],
       "datasetInfos": [],
       "dbfsResultPath": null,
       "isJsonSchema": true,
       "metadata": {},
       "overflow": false,
       "plotOptions": {
        "customPlotOptions": {},
        "displayType": "table",
        "pivotAggregation": null,
        "pivotColumns": null,
        "xColumns": null,
        "yColumns": null
       },
       "removedWidgets": [],
       "schema": [
        {
         "metadata": "{}",
         "name": "path",
         "type": "\"string\""
        },
        {
         "metadata": "{}",
         "name": "name",
         "type": "\"string\""
        },
        {
         "metadata": "{}",
         "name": "size",
         "type": "\"long\""
        },
        {
         "metadata": "{}",
         "name": "modificationTime",
         "type": "\"long\""
        }
       ],
       "type": "table"
      }
     },
     "output_type": "display_data"
    }
   ],
   "source": [
    "# Verificando os dados gravados em delta na camada SILVER\n",
    "\n",
    "display(dbutils.fs.ls(f\"/mnt/{storageAccountName}/silver/\"))"
   ]
  },
  {
   "cell_type": "code",
   "execution_count": 0,
   "metadata": {
    "application/vnd.databricks.v1+cell": {
     "cellMetadata": {
      "byteLimit": 2048000,
      "rowLimit": 10000
     },
     "inputWidgets": {},
     "nuid": "f5a6d10d-3108-4ce2-9741-965f04694dd2",
     "showTitle": false,
     "tableResultSettingsMap": {},
     "title": ""
    }
   },
   "outputs": [
    {
     "output_type": "display_data",
     "data": {
      "text/html": [
       "<style scoped>\n",
       "  .table-result-container {\n",
       "    max-height: 300px;\n",
       "    overflow: auto;\n",
       "  }\n",
       "  table, th, td {\n",
       "    border: 1px solid black;\n",
       "    border-collapse: collapse;\n",
       "  }\n",
       "  th, td {\n",
       "    padding: 5px;\n",
       "  }\n",
       "  th {\n",
       "    text-align: left;\n",
       "  }\n",
       "</style><div class='table-result-container'><table class='table-result'><thead style='background-color: white'><tr><th>IDENTIFIER_DRIVER</th><th>REFERENCE_DRIVER</th><th>NUMBER</th><th>CODE</th><th>FORENAME</th><th>SURNAME</th><th>DOB</th><th>NATIONALITY</th><th>URL</th><th>DATA_HORA_BRONZE</th><th>NOME_ARQUIVO</th><th>DATA_HORA_SILVER</th></tr></thead><tbody><tr><td>1</td><td>hamilton</td><td>44</td><td>HAM</td><td>Lewis</td><td>Hamilton</td><td>1985-01-07</td><td>British</td><td>http://en.wikipedia.org/wiki/Lewis_Hamilton</td><td>2025-06-19T21:54:03.058Z</td><td>drivers</td><td>2025-06-19T23:41:52.278Z</td></tr><tr><td>2</td><td>heidfeld</td><td>\\N</td><td>HEI</td><td>Nick</td><td>Heidfeld</td><td>1977-05-10</td><td>German</td><td>http://en.wikipedia.org/wiki/Nick_Heidfeld</td><td>2025-06-19T21:54:03.058Z</td><td>drivers</td><td>2025-06-19T23:41:52.278Z</td></tr><tr><td>3</td><td>rosberg</td><td>6</td><td>ROS</td><td>Nico</td><td>Rosberg</td><td>1985-06-27</td><td>German</td><td>http://en.wikipedia.org/wiki/Nico_Rosberg</td><td>2025-06-19T21:54:03.058Z</td><td>drivers</td><td>2025-06-19T23:41:52.278Z</td></tr><tr><td>4</td><td>alonso</td><td>14</td><td>ALO</td><td>Fernando</td><td>Alonso</td><td>1981-07-29</td><td>Spanish</td><td>http://en.wikipedia.org/wiki/Fernando_Alonso</td><td>2025-06-19T21:54:03.058Z</td><td>drivers</td><td>2025-06-19T23:41:52.278Z</td></tr><tr><td>5</td><td>kovalainen</td><td>\\N</td><td>KOV</td><td>Heikki</td><td>Kovalainen</td><td>1981-10-19</td><td>Finnish</td><td>http://en.wikipedia.org/wiki/Heikki_Kovalainen</td><td>2025-06-19T21:54:03.058Z</td><td>drivers</td><td>2025-06-19T23:41:52.278Z</td></tr><tr><td>6</td><td>nakajima</td><td>\\N</td><td>NAK</td><td>Kazuki</td><td>Nakajima</td><td>1985-01-11</td><td>Japanese</td><td>http://en.wikipedia.org/wiki/Kazuki_Nakajima</td><td>2025-06-19T21:54:03.058Z</td><td>drivers</td><td>2025-06-19T23:41:52.278Z</td></tr><tr><td>7</td><td>bourdais</td><td>\\N</td><td>BOU</td><td>Sébastien</td><td>Bourdais</td><td>1979-02-28</td><td>French</td><td>http://en.wikipedia.org/wiki/S%C3%A9bastien_Bourdais</td><td>2025-06-19T21:54:03.058Z</td><td>drivers</td><td>2025-06-19T23:41:52.278Z</td></tr><tr><td>8</td><td>raikkonen</td><td>7</td><td>RAI</td><td>Kimi</td><td>Räikkönen</td><td>1979-10-17</td><td>Finnish</td><td>http://en.wikipedia.org/wiki/Kimi_R%C3%A4ikk%C3%B6nen</td><td>2025-06-19T21:54:03.058Z</td><td>drivers</td><td>2025-06-19T23:41:52.278Z</td></tr><tr><td>9</td><td>kubica</td><td>88</td><td>KUB</td><td>Robert</td><td>Kubica</td><td>1984-12-07</td><td>Polish</td><td>http://en.wikipedia.org/wiki/Robert_Kubica</td><td>2025-06-19T21:54:03.058Z</td><td>drivers</td><td>2025-06-19T23:41:52.278Z</td></tr><tr><td>10</td><td>glock</td><td>\\N</td><td>GLO</td><td>Timo</td><td>Glock</td><td>1982-03-18</td><td>German</td><td>http://en.wikipedia.org/wiki/Timo_Glock</td><td>2025-06-19T21:54:03.058Z</td><td>drivers</td><td>2025-06-19T23:41:52.278Z</td></tr></tbody></table></div>"
      ]
     },
     "metadata": {
      "application/vnd.databricks.v1+output": {
       "addedWidgets": {},
       "aggData": [],
       "aggError": "",
       "aggOverflow": false,
       "aggSchema": [],
       "aggSeriesLimitReached": false,
       "aggType": "",
       "arguments": {},
       "columnCustomDisplayInfos": {},
       "data": [
        [
         "1",
         "hamilton",
         "44",
         "HAM",
         "Lewis",
         "Hamilton",
         "1985-01-07",
         "British",
         "http://en.wikipedia.org/wiki/Lewis_Hamilton",
         "2025-06-19T21:54:03.058Z",
         "drivers",
         "2025-06-19T23:41:52.278Z"
        ],
        [
         "2",
         "heidfeld",
         "\\N",
         "HEI",
         "Nick",
         "Heidfeld",
         "1977-05-10",
         "German",
         "http://en.wikipedia.org/wiki/Nick_Heidfeld",
         "2025-06-19T21:54:03.058Z",
         "drivers",
         "2025-06-19T23:41:52.278Z"
        ],
        [
         "3",
         "rosberg",
         "6",
         "ROS",
         "Nico",
         "Rosberg",
         "1985-06-27",
         "German",
         "http://en.wikipedia.org/wiki/Nico_Rosberg",
         "2025-06-19T21:54:03.058Z",
         "drivers",
         "2025-06-19T23:41:52.278Z"
        ],
        [
         "4",
         "alonso",
         "14",
         "ALO",
         "Fernando",
         "Alonso",
         "1981-07-29",
         "Spanish",
         "http://en.wikipedia.org/wiki/Fernando_Alonso",
         "2025-06-19T21:54:03.058Z",
         "drivers",
         "2025-06-19T23:41:52.278Z"
        ],
        [
         "5",
         "kovalainen",
         "\\N",
         "KOV",
         "Heikki",
         "Kovalainen",
         "1981-10-19",
         "Finnish",
         "http://en.wikipedia.org/wiki/Heikki_Kovalainen",
         "2025-06-19T21:54:03.058Z",
         "drivers",
         "2025-06-19T23:41:52.278Z"
        ],
        [
         "6",
         "nakajima",
         "\\N",
         "NAK",
         "Kazuki",
         "Nakajima",
         "1985-01-11",
         "Japanese",
         "http://en.wikipedia.org/wiki/Kazuki_Nakajima",
         "2025-06-19T21:54:03.058Z",
         "drivers",
         "2025-06-19T23:41:52.278Z"
        ],
        [
         "7",
         "bourdais",
         "\\N",
         "BOU",
         "Sébastien",
         "Bourdais",
         "1979-02-28",
         "French",
         "http://en.wikipedia.org/wiki/S%C3%A9bastien_Bourdais",
         "2025-06-19T21:54:03.058Z",
         "drivers",
         "2025-06-19T23:41:52.278Z"
        ],
        [
         "8",
         "raikkonen",
         "7",
         "RAI",
         "Kimi",
         "Räikkönen",
         "1979-10-17",
         "Finnish",
         "http://en.wikipedia.org/wiki/Kimi_R%C3%A4ikk%C3%B6nen",
         "2025-06-19T21:54:03.058Z",
         "drivers",
         "2025-06-19T23:41:52.278Z"
        ],
        [
         "9",
         "kubica",
         "88",
         "KUB",
         "Robert",
         "Kubica",
         "1984-12-07",
         "Polish",
         "http://en.wikipedia.org/wiki/Robert_Kubica",
         "2025-06-19T21:54:03.058Z",
         "drivers",
         "2025-06-19T23:41:52.278Z"
        ],
        [
         "10",
         "glock",
         "\\N",
         "GLO",
         "Timo",
         "Glock",
         "1982-03-18",
         "German",
         "http://en.wikipedia.org/wiki/Timo_Glock",
         "2025-06-19T21:54:03.058Z",
         "drivers",
         "2025-06-19T23:41:52.278Z"
        ]
       ],
       "datasetInfos": [],
       "dbfsResultPath": null,
       "isJsonSchema": true,
       "metadata": {},
       "overflow": false,
       "plotOptions": {
        "customPlotOptions": {},
        "displayType": "table",
        "pivotAggregation": null,
        "pivotColumns": null,
        "xColumns": null,
        "yColumns": null
       },
       "removedWidgets": [],
       "schema": [
        {
         "metadata": "{}",
         "name": "IDENTIFIER_DRIVER",
         "type": "\"string\""
        },
        {
         "metadata": "{}",
         "name": "REFERENCE_DRIVER",
         "type": "\"string\""
        },
        {
         "metadata": "{}",
         "name": "NUMBER",
         "type": "\"string\""
        },
        {
         "metadata": "{}",
         "name": "CODE",
         "type": "\"string\""
        },
        {
         "metadata": "{}",
         "name": "FORENAME",
         "type": "\"string\""
        },
        {
         "metadata": "{}",
         "name": "SURNAME",
         "type": "\"string\""
        },
        {
         "metadata": "{}",
         "name": "DOB",
         "type": "\"string\""
        },
        {
         "metadata": "{}",
         "name": "NATIONALITY",
         "type": "\"string\""
        },
        {
         "metadata": "{}",
         "name": "URL",
         "type": "\"string\""
        },
        {
         "metadata": "{}",
         "name": "DATA_HORA_BRONZE",
         "type": "\"timestamp\""
        },
        {
         "metadata": "{}",
         "name": "NOME_ARQUIVO",
         "type": "\"string\""
        },
        {
         "metadata": "{}",
         "name": "DATA_HORA_SILVER",
         "type": "\"timestamp\""
        }
       ],
       "type": "table"
      }
     },
     "output_type": "display_data"
    }
   ],
   "source": [
    "# Consultando um exemplo de um delta lake para validar a existência dos dados e das colunas do metadados na camada SILVER\n",
    "\n",
    "spark.read.format('delta').load(f'/mnt/{storageAccountName}/silver/drivers').limit(10).display()"
   ]
  }
 ],
 "metadata": {
  "application/vnd.databricks.v1+notebook": {
   "computePreferences": null,
   "dashboards": [],
   "environmentMetadata": {
    "base_environment": "",
    "environment_version": "2"
   },
   "inputWidgetPreferences": null,
   "language": "python",
   "notebookMetadata": {
    "pythonIndentUnit": 4
   },
   "notebookName": "Notebook Silver - William",
   "widgets": {}
  },
  "language_info": {
   "name": "python"
  }
 },
 "nbformat": 4,
 "nbformat_minor": 0
}